{
 "cells": [
  {
   "cell_type": "code",
   "execution_count": 2,
   "id": "43981ee4",
   "metadata": {},
   "outputs": [],
   "source": [
    "import pandas as pd\n",
    "import matplotlib.pyplot as plt"
   ]
  },
  {
   "cell_type": "code",
   "execution_count": 3,
   "id": "23c33ea5",
   "metadata": {},
   "outputs": [],
   "source": [
    "df1 = pd.read_csv('../data/Health_Sleep_Statistics.csv')\n",
    "df2 = pd.read_csv('../data/Sleep_health_and_lifestyle_dataset.csv')"
   ]
  },
  {
   "cell_type": "code",
   "execution_count": 4,
   "id": "3280b0d0",
   "metadata": {},
   "outputs": [
    {
     "data": {
      "text/plain": [
       "(374, 13)"
      ]
     },
     "execution_count": 4,
     "metadata": {},
     "output_type": "execute_result"
    }
   ],
   "source": [
    "df2.shape"
   ]
  },
  {
   "cell_type": "code",
   "execution_count": 5,
   "id": "91dd3494",
   "metadata": {},
   "outputs": [
    {
     "data": {
      "text/plain": [
       "(100, 12)"
      ]
     },
     "execution_count": 5,
     "metadata": {},
     "output_type": "execute_result"
    }
   ],
   "source": [
    "df1.shape"
   ]
  },
  {
   "cell_type": "code",
   "execution_count": 6,
   "id": "172c7f7c",
   "metadata": {},
   "outputs": [],
   "source": [
    "df = df1.merge(\n",
    "    df2[['Person ID', 'Occupation', 'Sleep Duration', 'Stress Level', 'BMI Category', 'Blood Pressure', 'Heart Rate', 'Sleep Disorder']],\n",
    "    left_on=['User ID'],\n",
    "    right_on=['Person ID'],\n",
    "    how='left'\n",
    ").drop(columns=['Wake-up Time', 'Person ID'])"
   ]
  },
  {
   "cell_type": "code",
   "execution_count": 7,
   "id": "8bca487a",
   "metadata": {},
   "outputs": [
    {
     "name": "stdout",
     "output_type": "stream",
     "text": [
      "<class 'pandas.core.frame.DataFrame'>\n",
      "RangeIndex: 100 entries, 0 to 99\n",
      "Data columns (total 18 columns):\n",
      " #   Column                   Non-Null Count  Dtype  \n",
      "---  ------                   --------------  -----  \n",
      " 0   User ID                  100 non-null    int64  \n",
      " 1   Age                      100 non-null    int64  \n",
      " 2   Gender                   100 non-null    object \n",
      " 3   Sleep Quality            100 non-null    int64  \n",
      " 4   Bedtime                  100 non-null    object \n",
      " 5   Daily Steps              100 non-null    int64  \n",
      " 6   Calories Burned          100 non-null    int64  \n",
      " 7   Physical Activity Level  100 non-null    object \n",
      " 8   Dietary Habits           100 non-null    object \n",
      " 9   Sleep Disorders          100 non-null    object \n",
      " 10  Medication Usage         100 non-null    object \n",
      " 11  Occupation               100 non-null    object \n",
      " 12  Sleep Duration           100 non-null    float64\n",
      " 13  Stress Level             100 non-null    int64  \n",
      " 14  BMI Category             100 non-null    object \n",
      " 15  Blood Pressure           100 non-null    object \n",
      " 16  Heart Rate               100 non-null    int64  \n",
      " 17  Sleep Disorder           15 non-null     object \n",
      "dtypes: float64(1), int64(7), object(10)\n",
      "memory usage: 14.2+ KB\n"
     ]
    }
   ],
   "source": [
    "df.info()"
   ]
  },
  {
   "cell_type": "code",
   "execution_count": 10,
   "id": "5bbd85a1",
   "metadata": {},
   "outputs": [],
   "source": [
    "df.to_csv('../data/Merged_Health_Sleep_Statistics.csv', index=False, encoding='utf-8')"
   ]
  }
 ],
 "metadata": {
  "kernelspec": {
   "display_name": "Python 3",
   "language": "python",
   "name": "python3"
  },
  "language_info": {
   "codemirror_mode": {
    "name": "ipython",
    "version": 3
   },
   "file_extension": ".py",
   "mimetype": "text/x-python",
   "name": "python",
   "nbconvert_exporter": "python",
   "pygments_lexer": "ipython3",
   "version": "3.13.5"
  }
 },
 "nbformat": 4,
 "nbformat_minor": 5
}
