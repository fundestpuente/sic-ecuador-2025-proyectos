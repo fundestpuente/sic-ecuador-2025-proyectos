{
 "cells": [
  {
   "cell_type": "markdown",
   "id": "21177242",
   "metadata": {},
   "source": [
    "# 📊 Proyecto: Análisis y visualización de la calidad del aire: una exploración de contaminantes atmosféricos y su relación con el PM2.5\n",
    "**Curso:** Samsung Innovation Campus – Módulo de Python (Ecuador 2025)  \n",
    "**Seccion:** EC03  \n",
    "\n",
    "---\n",
    "\n",
    "## 🧩 Módulo 1: Adquisición de Datos\n",
    "\n",
    "En esta sección se carga el dataset, se explora su estructura general y se validan los rangos de los contaminantes.\n",
    "\n",
    "El dataset contiene mediciones de diferentes gases y partículas contaminantes en el aire, registradas con fecha y hora.\n"
   ]
  },
  {
   "cell_type": "code",
   "execution_count": null,
   "id": "4650af77",
   "metadata": {},
   "outputs": [],
   "source": [
    "import pandas as pd\n",
    "import numpy as np\n",
    "import warnings\n",
    "import src.data_acquisition as da\n",
    "\n",
    "warnings.filterwarnings('ignore')"
   ]
  }
 ],
 "metadata": {
  "language_info": {
   "name": "python"
  }
 },
 "nbformat": 4,
 "nbformat_minor": 5
}
