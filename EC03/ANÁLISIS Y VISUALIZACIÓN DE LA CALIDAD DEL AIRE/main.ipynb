{
 "cells": [
  {
   "cell_type": "markdown",
   "id": "21177242",
   "metadata": {},
   "source": [
    "# 📊 Proyecto: Análisis y visualización de la calidad del aire: una exploración de contaminantes atmosféricos y su relación con el PM2.5\n",
    "**Curso:** Samsung Innovation Campus – Módulo de Python (Ecuador 2025)  \n",
    "**Seccion:** EC03  \n",
    "\n",
    "---\n",
    "\n",
    "## 🧩 Módulo: Adquisición de Datos\n",
    "\n",
    "En esta sección se carga el dataset, se explora su estructura general y se validan los rangos de los contaminantes.\n",
    "\n",
    "El dataset contiene mediciones de diferentes gases y partículas contaminantes en el aire, registradas con fecha y hora.\n"
   ]
  },
  {
   "cell_type": "markdown",
   "id": "098d271c",
   "metadata": {},
   "source": [
    "### 📘 Descripción general de las columnas del dataset\n",
    "\n",
    "| Columna | Descripción | Relevancia |\n",
    "|----------|--------------|-------------|\n",
    "| 📅 **Date** | Fecha y hora del registro | Permite analizar variaciones temporales. |\n",
    "| 🏭 **CO** | Monóxido de carbono (ppm) | Gas tóxico, indicador de combustión incompleta. |\n",
    "| 🚗 **NO** | Óxido nítrico | Se genera en la quema de combustibles fósiles. |\n",
    "| 🚙 **NO2** | Dióxido de nitrógeno | Contaminante urbano, precursor del ozono. |\n",
    "| 🌫️ **O3** | Ozono troposférico | Se forma con NOx + luz solar; irritante respiratorio. |\n",
    "| 🌋 **SO2** | Dióxido de azufre | Proviene de la quema de carbón y petróleo. |\n",
    "| ☁️ **PM2.5** | Partículas finas < 2.5 μm | Altamente dañinas, ingresan a los pulmones. |\n",
    "| 🌧️ **PM10** | Partículas < 10 μm | Menos dañinas, quedan en vías respiratorias. |\n",
    "| 🍃 **NH3** | Amoníaco | De origen agrícola, contribuye a partículas secundarias. |\n"
   ]
  },
  {
   "cell_type": "code",
   "execution_count": 2,
   "id": "0bf53fbd",
   "metadata": {},
   "outputs": [
    {
     "name": "stdout",
     "output_type": "stream",
     "text": [
      "Collecting pandas\n",
      "  Downloading pandas-2.3.3-cp313-cp313-manylinux_2_24_x86_64.manylinux_2_28_x86_64.whl.metadata (91 kB)\n",
      "Collecting matplotlib\n",
      "  Using cached matplotlib-3.10.6-cp313-cp313-manylinux2014_x86_64.manylinux_2_17_x86_64.whl.metadata (11 kB)\n",
      "Collecting seaborn\n",
      "  Downloading seaborn-0.13.2-py3-none-any.whl.metadata (5.4 kB)\n",
      "Collecting plotly\n",
      "  Downloading plotly-6.3.1-py3-none-any.whl.metadata (8.5 kB)\n",
      "Collecting dash\n",
      "  Downloading dash-3.2.0-py3-none-any.whl.metadata (10 kB)\n",
      "Collecting dash-bootstrap-components\n",
      "  Downloading dash_bootstrap_components-2.0.4-py3-none-any.whl.metadata (18 kB)\n",
      "Collecting jupyter-dash\n",
      "  Downloading jupyter_dash-0.4.2-py3-none-any.whl.metadata (3.6 kB)\n",
      "Collecting numpy>=1.26.0 (from pandas)\n",
      "  Downloading numpy-2.3.3-cp313-cp313-manylinux_2_27_x86_64.manylinux_2_28_x86_64.whl.metadata (62 kB)\n",
      "Requirement already satisfied: python-dateutil>=2.8.2 in /home/jossueth/Desktop/SAMSUNG/sic-ecuador-2025-proyectos/.venv/lib64/python3.13/site-packages (from pandas) (2.9.0.post0)\n",
      "Collecting pytz>=2020.1 (from pandas)\n",
      "  Downloading pytz-2025.2-py2.py3-none-any.whl.metadata (22 kB)\n",
      "Collecting tzdata>=2022.7 (from pandas)\n",
      "  Downloading tzdata-2025.2-py2.py3-none-any.whl.metadata (1.4 kB)\n",
      "Collecting contourpy>=1.0.1 (from matplotlib)\n",
      "  Using cached contourpy-1.3.3-cp313-cp313-manylinux_2_27_x86_64.manylinux_2_28_x86_64.whl.metadata (5.5 kB)\n",
      "Collecting cycler>=0.10 (from matplotlib)\n",
      "  Using cached cycler-0.12.1-py3-none-any.whl.metadata (3.8 kB)\n",
      "Collecting fonttools>=4.22.0 (from matplotlib)\n",
      "  Downloading fonttools-4.60.1-cp313-cp313-manylinux1_x86_64.manylinux2014_x86_64.manylinux_2_17_x86_64.manylinux_2_5_x86_64.whl.metadata (112 kB)\n",
      "Collecting kiwisolver>=1.3.1 (from matplotlib)\n",
      "  Using cached kiwisolver-1.4.9-cp313-cp313-manylinux2014_x86_64.manylinux_2_17_x86_64.whl.metadata (6.3 kB)\n",
      "Requirement already satisfied: packaging>=20.0 in /home/jossueth/Desktop/SAMSUNG/sic-ecuador-2025-proyectos/.venv/lib64/python3.13/site-packages (from matplotlib) (25.0)\n",
      "Collecting pillow>=8 (from matplotlib)\n",
      "  Downloading pillow-11.3.0-cp313-cp313-manylinux_2_27_x86_64.manylinux_2_28_x86_64.whl.metadata (9.0 kB)\n",
      "Collecting pyparsing>=2.3.1 (from matplotlib)\n",
      "  Downloading pyparsing-3.2.5-py3-none-any.whl.metadata (5.0 kB)\n",
      "Collecting narwhals>=1.15.1 (from plotly)\n",
      "  Downloading narwhals-2.7.0-py3-none-any.whl.metadata (11 kB)\n",
      "Collecting Flask<3.2,>=1.0.4 (from dash)\n",
      "  Downloading flask-3.1.2-py3-none-any.whl.metadata (3.2 kB)\n",
      "Collecting Werkzeug<3.2 (from dash)\n",
      "  Downloading werkzeug-3.1.3-py3-none-any.whl.metadata (3.7 kB)\n",
      "Collecting importlib-metadata (from dash)\n",
      "  Downloading importlib_metadata-8.7.0-py3-none-any.whl.metadata (4.8 kB)\n",
      "Collecting typing-extensions>=4.1.1 (from dash)\n",
      "  Using cached typing_extensions-4.15.0-py3-none-any.whl.metadata (3.3 kB)\n",
      "Collecting requests (from dash)\n",
      "  Using cached requests-2.32.5-py3-none-any.whl.metadata (4.9 kB)\n",
      "Collecting retrying (from dash)\n",
      "  Using cached retrying-1.4.2-py3-none-any.whl.metadata (5.5 kB)\n",
      "Requirement already satisfied: nest-asyncio in /home/jossueth/Desktop/SAMSUNG/sic-ecuador-2025-proyectos/.venv/lib64/python3.13/site-packages (from dash) (1.6.0)\n",
      "Collecting setuptools (from dash)\n",
      "  Using cached setuptools-80.9.0-py3-none-any.whl.metadata (6.6 kB)\n",
      "Collecting blinker>=1.9.0 (from Flask<3.2,>=1.0.4->dash)\n",
      "  Downloading blinker-1.9.0-py3-none-any.whl.metadata (1.6 kB)\n",
      "Collecting click>=8.1.3 (from Flask<3.2,>=1.0.4->dash)\n",
      "  Downloading click-8.3.0-py3-none-any.whl.metadata (2.6 kB)\n",
      "Collecting itsdangerous>=2.2.0 (from Flask<3.2,>=1.0.4->dash)\n",
      "  Downloading itsdangerous-2.2.0-py3-none-any.whl.metadata (1.9 kB)\n",
      "Collecting jinja2>=3.1.2 (from Flask<3.2,>=1.0.4->dash)\n",
      "  Using cached jinja2-3.1.6-py3-none-any.whl.metadata (2.9 kB)\n",
      "Collecting markupsafe>=2.1.1 (from Flask<3.2,>=1.0.4->dash)\n",
      "  Downloading markupsafe-3.0.3-cp313-cp313-manylinux2014_x86_64.manylinux_2_17_x86_64.manylinux_2_28_x86_64.whl.metadata (2.7 kB)\n",
      "Requirement already satisfied: ipython in /home/jossueth/Desktop/SAMSUNG/sic-ecuador-2025-proyectos/.venv/lib64/python3.13/site-packages (from jupyter-dash) (9.6.0)\n",
      "Requirement already satisfied: ipykernel in /home/jossueth/Desktop/SAMSUNG/sic-ecuador-2025-proyectos/.venv/lib64/python3.13/site-packages (from jupyter-dash) (6.30.1)\n",
      "Collecting ansi2html (from jupyter-dash)\n",
      "  Downloading ansi2html-1.9.2-py3-none-any.whl.metadata (3.7 kB)\n",
      "Requirement already satisfied: six>=1.5 in /home/jossueth/Desktop/SAMSUNG/sic-ecuador-2025-proyectos/.venv/lib64/python3.13/site-packages (from python-dateutil>=2.8.2->pandas) (1.17.0)\n",
      "Collecting zipp>=3.20 (from importlib-metadata->dash)\n",
      "  Downloading zipp-3.23.0-py3-none-any.whl.metadata (3.6 kB)\n",
      "Requirement already satisfied: comm>=0.1.1 in /home/jossueth/Desktop/SAMSUNG/sic-ecuador-2025-proyectos/.venv/lib64/python3.13/site-packages (from ipykernel->jupyter-dash) (0.2.3)\n",
      "Requirement already satisfied: debugpy>=1.6.5 in /home/jossueth/Desktop/SAMSUNG/sic-ecuador-2025-proyectos/.venv/lib64/python3.13/site-packages (from ipykernel->jupyter-dash) (1.8.17)\n",
      "Requirement already satisfied: jupyter-client>=8.0.0 in /home/jossueth/Desktop/SAMSUNG/sic-ecuador-2025-proyectos/.venv/lib64/python3.13/site-packages (from ipykernel->jupyter-dash) (8.6.3)\n",
      "Requirement already satisfied: jupyter-core!=5.0.*,>=4.12 in /home/jossueth/Desktop/SAMSUNG/sic-ecuador-2025-proyectos/.venv/lib64/python3.13/site-packages (from ipykernel->jupyter-dash) (5.8.1)\n",
      "Requirement already satisfied: matplotlib-inline>=0.1 in /home/jossueth/Desktop/SAMSUNG/sic-ecuador-2025-proyectos/.venv/lib64/python3.13/site-packages (from ipykernel->jupyter-dash) (0.1.7)\n",
      "Requirement already satisfied: psutil>=5.7 in /home/jossueth/Desktop/SAMSUNG/sic-ecuador-2025-proyectos/.venv/lib64/python3.13/site-packages (from ipykernel->jupyter-dash) (7.1.0)\n",
      "Requirement already satisfied: pyzmq>=25 in /home/jossueth/Desktop/SAMSUNG/sic-ecuador-2025-proyectos/.venv/lib64/python3.13/site-packages (from ipykernel->jupyter-dash) (27.1.0)\n",
      "Requirement already satisfied: tornado>=6.2 in /home/jossueth/Desktop/SAMSUNG/sic-ecuador-2025-proyectos/.venv/lib64/python3.13/site-packages (from ipykernel->jupyter-dash) (6.5.2)\n",
      "Requirement already satisfied: traitlets>=5.4.0 in /home/jossueth/Desktop/SAMSUNG/sic-ecuador-2025-proyectos/.venv/lib64/python3.13/site-packages (from ipykernel->jupyter-dash) (5.14.3)\n",
      "Requirement already satisfied: decorator in /home/jossueth/Desktop/SAMSUNG/sic-ecuador-2025-proyectos/.venv/lib64/python3.13/site-packages (from ipython->jupyter-dash) (5.2.1)\n",
      "Requirement already satisfied: ipython-pygments-lexers in /home/jossueth/Desktop/SAMSUNG/sic-ecuador-2025-proyectos/.venv/lib64/python3.13/site-packages (from ipython->jupyter-dash) (1.1.1)\n",
      "Requirement already satisfied: jedi>=0.16 in /home/jossueth/Desktop/SAMSUNG/sic-ecuador-2025-proyectos/.venv/lib64/python3.13/site-packages (from ipython->jupyter-dash) (0.19.2)\n",
      "Requirement already satisfied: pexpect>4.3 in /home/jossueth/Desktop/SAMSUNG/sic-ecuador-2025-proyectos/.venv/lib64/python3.13/site-packages (from ipython->jupyter-dash) (4.9.0)\n",
      "Requirement already satisfied: prompt_toolkit<3.1.0,>=3.0.41 in /home/jossueth/Desktop/SAMSUNG/sic-ecuador-2025-proyectos/.venv/lib64/python3.13/site-packages (from ipython->jupyter-dash) (3.0.52)\n",
      "Requirement already satisfied: pygments>=2.4.0 in /home/jossueth/Desktop/SAMSUNG/sic-ecuador-2025-proyectos/.venv/lib64/python3.13/site-packages (from ipython->jupyter-dash) (2.19.2)\n",
      "Requirement already satisfied: stack_data in /home/jossueth/Desktop/SAMSUNG/sic-ecuador-2025-proyectos/.venv/lib64/python3.13/site-packages (from ipython->jupyter-dash) (0.6.3)\n",
      "Requirement already satisfied: wcwidth in /home/jossueth/Desktop/SAMSUNG/sic-ecuador-2025-proyectos/.venv/lib64/python3.13/site-packages (from prompt_toolkit<3.1.0,>=3.0.41->ipython->jupyter-dash) (0.2.14)\n",
      "Requirement already satisfied: parso<0.9.0,>=0.8.4 in /home/jossueth/Desktop/SAMSUNG/sic-ecuador-2025-proyectos/.venv/lib64/python3.13/site-packages (from jedi>=0.16->ipython->jupyter-dash) (0.8.5)\n",
      "Requirement already satisfied: platformdirs>=2.5 in /home/jossueth/Desktop/SAMSUNG/sic-ecuador-2025-proyectos/.venv/lib64/python3.13/site-packages (from jupyter-core!=5.0.*,>=4.12->ipykernel->jupyter-dash) (4.4.0)\n",
      "Requirement already satisfied: ptyprocess>=0.5 in /home/jossueth/Desktop/SAMSUNG/sic-ecuador-2025-proyectos/.venv/lib64/python3.13/site-packages (from pexpect>4.3->ipython->jupyter-dash) (0.7.0)\n",
      "Collecting charset_normalizer<4,>=2 (from requests->dash)\n",
      "  Using cached charset_normalizer-3.4.3-cp313-cp313-manylinux2014_x86_64.manylinux_2_17_x86_64.manylinux_2_28_x86_64.whl.metadata (36 kB)\n",
      "Collecting idna<4,>=2.5 (from requests->dash)\n",
      "  Using cached idna-3.10-py3-none-any.whl.metadata (10 kB)\n",
      "Collecting urllib3<3,>=1.21.1 (from requests->dash)\n",
      "  Using cached urllib3-2.5.0-py3-none-any.whl.metadata (6.5 kB)\n",
      "Collecting certifi>=2017.4.17 (from requests->dash)\n",
      "  Downloading certifi-2025.10.5-py3-none-any.whl.metadata (2.5 kB)\n",
      "Requirement already satisfied: executing>=1.2.0 in /home/jossueth/Desktop/SAMSUNG/sic-ecuador-2025-proyectos/.venv/lib64/python3.13/site-packages (from stack_data->ipython->jupyter-dash) (2.2.1)\n",
      "Requirement already satisfied: asttokens>=2.1.0 in /home/jossueth/Desktop/SAMSUNG/sic-ecuador-2025-proyectos/.venv/lib64/python3.13/site-packages (from stack_data->ipython->jupyter-dash) (3.0.0)\n",
      "Requirement already satisfied: pure-eval in /home/jossueth/Desktop/SAMSUNG/sic-ecuador-2025-proyectos/.venv/lib64/python3.13/site-packages (from stack_data->ipython->jupyter-dash) (0.2.3)\n",
      "Downloading pandas-2.3.3-cp313-cp313-manylinux_2_24_x86_64.manylinux_2_28_x86_64.whl (12.3 MB)\n",
      "\u001b[2K   \u001b[90m━━━━━━━━━━━━━━━━━━━━━━━━━━━━━━━━━━━━━━━━\u001b[0m \u001b[32m12.3/12.3 MB\u001b[0m \u001b[31m974.7 kB/s\u001b[0m  \u001b[33m0:00:13\u001b[0mm0:00:01\u001b[0m00:01\u001b[0m\n",
      "\u001b[?25hUsing cached matplotlib-3.10.6-cp313-cp313-manylinux2014_x86_64.manylinux_2_17_x86_64.whl (8.7 MB)\n",
      "Downloading seaborn-0.13.2-py3-none-any.whl (294 kB)\n",
      "Downloading plotly-6.3.1-py3-none-any.whl (9.8 MB)\n",
      "\u001b[2K   \u001b[90m━━━━━━━━━━━━━━━━━━━━━━━━━━━━━━━━━━━━━━━━\u001b[0m \u001b[32m9.8/9.8 MB\u001b[0m \u001b[31m797.8 kB/s\u001b[0m  \u001b[33m0:00:12\u001b[0mm0:00:01\u001b[0m00:01\u001b[0m\n",
      "\u001b[?25hDownloading dash-3.2.0-py3-none-any.whl (7.9 MB)\n",
      "\u001b[2K   \u001b[90m━━━━━━━━━━━━━━━━━━━━━━━━━━━━━━━━━━━━━━━━\u001b[0m \u001b[32m7.9/7.9 MB\u001b[0m \u001b[31m1.6 MB/s\u001b[0m  \u001b[33m0:00:05\u001b[0m eta \u001b[36m0:00:01\u001b[0m0m\n",
      "\u001b[?25hDownloading flask-3.1.2-py3-none-any.whl (103 kB)\n",
      "Downloading werkzeug-3.1.3-py3-none-any.whl (224 kB)\n",
      "Downloading dash_bootstrap_components-2.0.4-py3-none-any.whl (204 kB)\n",
      "Downloading jupyter_dash-0.4.2-py3-none-any.whl (23 kB)\n",
      "Downloading blinker-1.9.0-py3-none-any.whl (8.5 kB)\n",
      "Downloading click-8.3.0-py3-none-any.whl (107 kB)\n",
      "Using cached contourpy-1.3.3-cp313-cp313-manylinux_2_27_x86_64.manylinux_2_28_x86_64.whl (362 kB)\n",
      "Using cached cycler-0.12.1-py3-none-any.whl (8.3 kB)\n",
      "Downloading fonttools-4.60.1-cp313-cp313-manylinux1_x86_64.manylinux2014_x86_64.manylinux_2_17_x86_64.manylinux_2_5_x86_64.whl (4.9 MB)\n",
      "\u001b[2K   \u001b[90m━━━━━━━━━━━━━━━━━━━━━━━━━━━━━━━━━━━━━━━━\u001b[0m \u001b[32m4.9/4.9 MB\u001b[0m \u001b[31m2.0 MB/s\u001b[0m  \u001b[33m0:00:02\u001b[0m eta \u001b[36m0:00:01\u001b[0m\n",
      "\u001b[?25hDownloading itsdangerous-2.2.0-py3-none-any.whl (16 kB)\n",
      "Using cached jinja2-3.1.6-py3-none-any.whl (134 kB)\n",
      "Using cached kiwisolver-1.4.9-cp313-cp313-manylinux2014_x86_64.manylinux_2_17_x86_64.whl (1.5 MB)\n",
      "Downloading markupsafe-3.0.3-cp313-cp313-manylinux2014_x86_64.manylinux_2_17_x86_64.manylinux_2_28_x86_64.whl (22 kB)\n",
      "Downloading narwhals-2.7.0-py3-none-any.whl (412 kB)\n",
      "Downloading numpy-2.3.3-cp313-cp313-manylinux_2_27_x86_64.manylinux_2_28_x86_64.whl (16.6 MB)\n",
      "\u001b[2K   \u001b[90m━━━━━━━━━━━━━━━━━━━━━━━━━━━━━━━━━━━━━━━━\u001b[0m \u001b[32m16.6/16.6 MB\u001b[0m \u001b[31m1.4 MB/s\u001b[0m  \u001b[33m0:00:11\u001b[0mm0:00:01\u001b[0m00:01\u001b[0mm\n",
      "\u001b[?25hDownloading pillow-11.3.0-cp313-cp313-manylinux_2_27_x86_64.manylinux_2_28_x86_64.whl (6.6 MB)\n",
      "\u001b[2K   \u001b[90m━━━━━━━━━━━━━━━━━━━━━━━━━━━━━━━━━━━━━━━━\u001b[0m \u001b[32m6.6/6.6 MB\u001b[0m \u001b[31m2.0 MB/s\u001b[0m  \u001b[33m0:00:03\u001b[0m eta \u001b[36m0:00:01\u001b[0m0m\n",
      "\u001b[?25hDownloading pyparsing-3.2.5-py3-none-any.whl (113 kB)\n",
      "Downloading pytz-2025.2-py2.py3-none-any.whl (509 kB)\n",
      "Using cached typing_extensions-4.15.0-py3-none-any.whl (44 kB)\n",
      "Downloading tzdata-2025.2-py2.py3-none-any.whl (347 kB)\n",
      "Downloading ansi2html-1.9.2-py3-none-any.whl (17 kB)\n",
      "Downloading importlib_metadata-8.7.0-py3-none-any.whl (27 kB)\n",
      "Downloading zipp-3.23.0-py3-none-any.whl (10 kB)\n",
      "Using cached requests-2.32.5-py3-none-any.whl (64 kB)\n",
      "Using cached charset_normalizer-3.4.3-cp313-cp313-manylinux2014_x86_64.manylinux_2_17_x86_64.manylinux_2_28_x86_64.whl (151 kB)\n",
      "Using cached idna-3.10-py3-none-any.whl (70 kB)\n",
      "Using cached urllib3-2.5.0-py3-none-any.whl (129 kB)\n",
      "Downloading certifi-2025.10.5-py3-none-any.whl (163 kB)\n",
      "Using cached retrying-1.4.2-py3-none-any.whl (10 kB)\n",
      "Using cached setuptools-80.9.0-py3-none-any.whl (1.2 MB)\n",
      "Installing collected packages: pytz, zipp, urllib3, tzdata, typing-extensions, setuptools, retrying, pyparsing, pillow, numpy, narwhals, markupsafe, kiwisolver, itsdangerous, idna, fonttools, cycler, click, charset_normalizer, certifi, blinker, ansi2html, Werkzeug, requests, plotly, pandas, jinja2, importlib-metadata, contourpy, matplotlib, Flask, seaborn, dash, jupyter-dash, dash-bootstrap-components\n",
      "\u001b[2K   \u001b[90m━━━━━━━━━━━━━━━━━━━━━━━━━━━━━━━━━━━━━━━━\u001b[0m \u001b[32m35/35\u001b[0m [dash-bootstrap-components]ib]\n",
      "\u001b[1A\u001b[2KSuccessfully installed Flask-3.1.2 Werkzeug-3.1.3 ansi2html-1.9.2 blinker-1.9.0 certifi-2025.10.5 charset_normalizer-3.4.3 click-8.3.0 contourpy-1.3.3 cycler-0.12.1 dash-3.2.0 dash-bootstrap-components-2.0.4 fonttools-4.60.1 idna-3.10 importlib-metadata-8.7.0 itsdangerous-2.2.0 jinja2-3.1.6 jupyter-dash-0.4.2 kiwisolver-1.4.9 markupsafe-3.0.3 matplotlib-3.10.6 narwhals-2.7.0 numpy-2.3.3 pandas-2.3.3 pillow-11.3.0 plotly-6.3.1 pyparsing-3.2.5 pytz-2025.2 requests-2.32.5 retrying-1.4.2 seaborn-0.13.2 setuptools-80.9.0 typing-extensions-4.15.0 tzdata-2025.2 urllib3-2.5.0 zipp-3.23.0\n"
     ]
    }
   ],
   "source": [
    "!pip install pandas matplotlib seaborn plotly dash dash-bootstrap-components jupyter-dash"
   ]
  },
  {
   "cell_type": "code",
   "execution_count": 2,
   "id": "4650af77",
   "metadata": {},
   "outputs": [],
   "source": [
    "# ===== Importar librerías principales ====\n",
    "import pandas as pd\n",
    "import numpy as np\n",
    "import warnings\n",
    "import importlib\n",
    "import src.data_acquisition as da\n",
    "import src.data_processing as dp\n",
    "import src.data_visualization as dv\n",
    "import src.data_interpretation as di\n",
    "\n",
    "# Recargar los módulos para reflejar cambios recientes\n",
    "importlib.reload(dp) \n",
    "importlib.reload(da)\n",
    "importlib.reload(dv)\n",
    "importlib.reload(di)\n",
    "\n",
    "warnings.filterwarnings('ignore')"
   ]
  },
  {
   "cell_type": "code",
   "execution_count": 3,
   "id": "e4926344",
   "metadata": {},
   "outputs": [
    {
     "name": "stdout",
     "output_type": "stream",
     "text": [
      "============================================================\n",
      "📂 Archivos disponibles en la carpeta\n",
      "============================================================\n",
      "- data/delhiaqi.csv\n"
     ]
    }
   ],
   "source": [
    "# === Listar los archivos disponibles en la carpeta de datos ===\n",
    "print(\"=\"*60)\n",
    "print(\"📂 Archivos disponibles en la carpeta\")\n",
    "print(\"=\"*60)\n",
    "for file in da.list_data_files(\"data\"):\n",
    "    print(f\"- {file}\")"
   ]
  },
  {
   "cell_type": "code",
   "execution_count": 4,
   "id": "1b8c90d1",
   "metadata": {},
   "outputs": [
    {
     "name": "stdout",
     "output_type": "stream",
     "text": [
      "data  main.ipynb  README.md  src\n"
     ]
    }
   ],
   "source": [
    "!ls"
   ]
  },
  {
   "cell_type": "code",
   "execution_count": 5,
   "id": "55283cc4",
   "metadata": {},
   "outputs": [
    {
     "name": "stdout",
     "output_type": "stream",
     "text": [
      "✅ Archivo 'data/delhiaqi.csv' cargado exitosamente.\n"
     ]
    }
   ],
   "source": [
    "# Cargar de los datos del archivo CSV en un DataFrame\n",
    "df_air_quality = da.load_data_csv('data/delhiaqi.csv')"
   ]
  },
  {
   "cell_type": "code",
   "execution_count": 6,
   "id": "c50133e6",
   "metadata": {},
   "outputs": [
    {
     "name": "stdout",
     "output_type": "stream",
     "text": [
      "============================================================\n",
      "📊 Exploración inicial de los datos\n",
      "============================================================\n",
      "\n",
      "🔍 Primeras 5 filas del DataFrame:\n"
     ]
    },
    {
     "data": {
      "text/html": [
       "<div>\n",
       "<style scoped>\n",
       "    .dataframe tbody tr th:only-of-type {\n",
       "        vertical-align: middle;\n",
       "    }\n",
       "\n",
       "    .dataframe tbody tr th {\n",
       "        vertical-align: top;\n",
       "    }\n",
       "\n",
       "    .dataframe thead th {\n",
       "        text-align: right;\n",
       "    }\n",
       "</style>\n",
       "<table border=\"1\" class=\"dataframe\">\n",
       "  <thead>\n",
       "    <tr style=\"text-align: right;\">\n",
       "      <th></th>\n",
       "      <th>date</th>\n",
       "      <th>co</th>\n",
       "      <th>no</th>\n",
       "      <th>no2</th>\n",
       "      <th>o3</th>\n",
       "      <th>so2</th>\n",
       "      <th>pm2_5</th>\n",
       "      <th>pm10</th>\n",
       "      <th>nh3</th>\n",
       "    </tr>\n",
       "  </thead>\n",
       "  <tbody>\n",
       "    <tr>\n",
       "      <th>0</th>\n",
       "      <td>2023-01-01 00:00:00</td>\n",
       "      <td>1655.58</td>\n",
       "      <td>1.66</td>\n",
       "      <td>39.41</td>\n",
       "      <td>5.90</td>\n",
       "      <td>17.88</td>\n",
       "      <td>169.29</td>\n",
       "      <td>194.64</td>\n",
       "      <td>5.83</td>\n",
       "    </tr>\n",
       "    <tr>\n",
       "      <th>1</th>\n",
       "      <td>2023-01-01 01:00:00</td>\n",
       "      <td>1869.20</td>\n",
       "      <td>6.82</td>\n",
       "      <td>42.16</td>\n",
       "      <td>1.99</td>\n",
       "      <td>22.17</td>\n",
       "      <td>182.84</td>\n",
       "      <td>211.08</td>\n",
       "      <td>7.66</td>\n",
       "    </tr>\n",
       "    <tr>\n",
       "      <th>2</th>\n",
       "      <td>2023-01-01 02:00:00</td>\n",
       "      <td>2510.07</td>\n",
       "      <td>27.72</td>\n",
       "      <td>43.87</td>\n",
       "      <td>0.02</td>\n",
       "      <td>30.04</td>\n",
       "      <td>220.25</td>\n",
       "      <td>260.68</td>\n",
       "      <td>11.40</td>\n",
       "    </tr>\n",
       "    <tr>\n",
       "      <th>3</th>\n",
       "      <td>2023-01-01 03:00:00</td>\n",
       "      <td>3150.94</td>\n",
       "      <td>55.43</td>\n",
       "      <td>44.55</td>\n",
       "      <td>0.85</td>\n",
       "      <td>35.76</td>\n",
       "      <td>252.90</td>\n",
       "      <td>304.12</td>\n",
       "      <td>13.55</td>\n",
       "    </tr>\n",
       "    <tr>\n",
       "      <th>4</th>\n",
       "      <td>2023-01-01 04:00:00</td>\n",
       "      <td>3471.37</td>\n",
       "      <td>68.84</td>\n",
       "      <td>45.24</td>\n",
       "      <td>5.45</td>\n",
       "      <td>39.10</td>\n",
       "      <td>266.36</td>\n",
       "      <td>322.80</td>\n",
       "      <td>14.19</td>\n",
       "    </tr>\n",
       "  </tbody>\n",
       "</table>\n",
       "</div>"
      ],
      "text/plain": [
       "                  date       co     no    no2    o3    so2   pm2_5    pm10  \\\n",
       "0  2023-01-01 00:00:00  1655.58   1.66  39.41  5.90  17.88  169.29  194.64   \n",
       "1  2023-01-01 01:00:00  1869.20   6.82  42.16  1.99  22.17  182.84  211.08   \n",
       "2  2023-01-01 02:00:00  2510.07  27.72  43.87  0.02  30.04  220.25  260.68   \n",
       "3  2023-01-01 03:00:00  3150.94  55.43  44.55  0.85  35.76  252.90  304.12   \n",
       "4  2023-01-01 04:00:00  3471.37  68.84  45.24  5.45  39.10  266.36  322.80   \n",
       "\n",
       "     nh3  \n",
       "0   5.83  \n",
       "1   7.66  \n",
       "2  11.40  \n",
       "3  13.55  \n",
       "4  14.19  "
      ]
     },
     "metadata": {},
     "output_type": "display_data"
    }
   ],
   "source": [
    "print(\"=\" * 60)\n",
    "print(\"📊 Exploración inicial de los datos\")\n",
    "print(\"=\" * 60)\n",
    "\n",
    "# Mostrar filas del DataFrame\n",
    "da.preview_data(df_air_quality, num_rows=5)"
   ]
  },
  {
   "cell_type": "code",
   "execution_count": 7,
   "id": "48392968",
   "metadata": {},
   "outputs": [
    {
     "name": "stdout",
     "output_type": "stream",
     "text": [
      "\n",
      "📐 Dimensiones del DataFrame: 561 filas y 9 columnas\n"
     ]
    }
   ],
   "source": [
    "# Mostrar dimensiones del DataFrame\n",
    "da.get_dataframe_shape(df_air_quality)"
   ]
  },
  {
   "cell_type": "code",
   "execution_count": 8,
   "id": "ddb2f3ea",
   "metadata": {},
   "outputs": [
    {
     "name": "stdout",
     "output_type": "stream",
     "text": [
      "\n",
      "🧱 Columnas del Dataframe:\n",
      "['date', 'co', 'no', 'no2', 'o3', 'so2', 'pm2_5', 'pm10', 'nh3']\n",
      "\n",
      "📊 Información del DataFrame:\n",
      "<class 'pandas.core.frame.DataFrame'>\n",
      "RangeIndex: 561 entries, 0 to 560\n",
      "Data columns (total 9 columns):\n",
      " #   Column  Non-Null Count  Dtype  \n",
      "---  ------  --------------  -----  \n",
      " 0   date    561 non-null    object \n",
      " 1   co      561 non-null    float64\n",
      " 2   no      561 non-null    float64\n",
      " 3   no2     561 non-null    float64\n",
      " 4   o3      561 non-null    float64\n",
      " 5   so2     561 non-null    float64\n",
      " 6   pm2_5   561 non-null    float64\n",
      " 7   pm10    561 non-null    float64\n",
      " 8   nh3     561 non-null    float64\n",
      "dtypes: float64(8), object(1)\n",
      "memory usage: 39.6+ KB\n"
     ]
    }
   ],
   "source": [
    "# Mostrar información detallada del DataFrame\n",
    "da.get_dataframe_info(df_air_quality)"
   ]
  },
  {
   "cell_type": "code",
   "execution_count": 9,
   "id": "464ce1f6",
   "metadata": {},
   "outputs": [
    {
     "name": "stdout",
     "output_type": "stream",
     "text": [
      "\n",
      "❗ Valores faltantes por columna:\n",
      "date     0\n",
      "co       0\n",
      "no       0\n",
      "no2      0\n",
      "o3       0\n",
      "so2      0\n",
      "pm2_5    0\n",
      "pm10     0\n",
      "nh3      0\n",
      "dtype: int64\n"
     ]
    }
   ],
   "source": [
    "# Mostrar los valores faltantes por columna\n",
    "da.get_missing_values(df_air_quality)"
   ]
  },
  {
   "cell_type": "markdown",
   "id": "f427c8ce",
   "metadata": {},
   "source": [
    "## 🧩 Módulo: Procesamiento y limpieza de datos\n",
    "En esta sección se prepara el conjunto de datos para el análisis.  \n",
    "Se aplican los siguientes pasos:\n",
    "\n",
    "1. Conversión de fechas al formato `datetime`.  \n",
    "2. Eliminación de duplicados y valores negativos.  \n",
    "3. Creación de columnas temporales (año, mes, día, hora).  \n",
    "4. Cálculo automático del **Índice de Calidad del Aire (ICA)** basado en PM2.5.\n",
    "5. Clasificación automática de cada registro en su categoría correspondiente según su valor de PM2.5.\n",
    "\n",
    "### 🔹 Índice de Calidad del Aire (ICA)\n",
    "El ICA mide la calidad del aire en una escala de **0 a >500**, dividiéndose en seis categorías de peligrosidad.  \n",
    "A mayor índice, peor es la calidad del aire.  \n",
    "\n",
    "| Categoría | Color | Rango ICA |\n",
    "|-----------|-------|-----------|\n",
    "| Buena | 🟢 Verde | 0 – 50 |\n",
    "| Moderada | 🟡 Amarillo | 51 – 100 |\n",
    "| Dañina para grupos sensibles | 🟠 Naranja | 101 – 150 |\n",
    "| Dañina | 🔴 Rojo | 151 – 200 |\n",
    "| Muy dañina | 🟣 Morado | 201 – 300 |\n",
    "| Peligrosa | 🟤 Marrón | >300 |\n"
   ]
  },
  {
   "cell_type": "code",
   "execution_count": 10,
   "id": "72424dcb",
   "metadata": {},
   "outputs": [
    {
     "name": "stdout",
     "output_type": "stream",
     "text": [
      "✅ Datos limpios y listos para el análisis.\n",
      "\n",
      "🔍 Primeras 5 filas del DataFrame:\n"
     ]
    },
    {
     "data": {
      "text/html": [
       "<div>\n",
       "<style scoped>\n",
       "    .dataframe tbody tr th:only-of-type {\n",
       "        vertical-align: middle;\n",
       "    }\n",
       "\n",
       "    .dataframe tbody tr th {\n",
       "        vertical-align: top;\n",
       "    }\n",
       "\n",
       "    .dataframe thead th {\n",
       "        text-align: right;\n",
       "    }\n",
       "</style>\n",
       "<table border=\"1\" class=\"dataframe\">\n",
       "  <thead>\n",
       "    <tr style=\"text-align: right;\">\n",
       "      <th></th>\n",
       "      <th>co</th>\n",
       "      <th>no</th>\n",
       "      <th>no2</th>\n",
       "      <th>o3</th>\n",
       "      <th>so2</th>\n",
       "      <th>pm2_5</th>\n",
       "      <th>pm10</th>\n",
       "      <th>nh3</th>\n",
       "      <th>year</th>\n",
       "      <th>month</th>\n",
       "      <th>day</th>\n",
       "      <th>hour</th>\n",
       "      <th>ica_category</th>\n",
       "    </tr>\n",
       "    <tr>\n",
       "      <th>date</th>\n",
       "      <th></th>\n",
       "      <th></th>\n",
       "      <th></th>\n",
       "      <th></th>\n",
       "      <th></th>\n",
       "      <th></th>\n",
       "      <th></th>\n",
       "      <th></th>\n",
       "      <th></th>\n",
       "      <th></th>\n",
       "      <th></th>\n",
       "      <th></th>\n",
       "      <th></th>\n",
       "    </tr>\n",
       "  </thead>\n",
       "  <tbody>\n",
       "    <tr>\n",
       "      <th>2023-01-01 00:00:00</th>\n",
       "      <td>1655.58</td>\n",
       "      <td>1.66</td>\n",
       "      <td>39.41</td>\n",
       "      <td>5.90</td>\n",
       "      <td>17.88</td>\n",
       "      <td>169.29</td>\n",
       "      <td>194.64</td>\n",
       "      <td>5.83</td>\n",
       "      <td>2023</td>\n",
       "      <td>1</td>\n",
       "      <td>1</td>\n",
       "      <td>0</td>\n",
       "      <td>Dañina</td>\n",
       "    </tr>\n",
       "    <tr>\n",
       "      <th>2023-01-01 01:00:00</th>\n",
       "      <td>1869.20</td>\n",
       "      <td>6.82</td>\n",
       "      <td>42.16</td>\n",
       "      <td>1.99</td>\n",
       "      <td>22.17</td>\n",
       "      <td>182.84</td>\n",
       "      <td>211.08</td>\n",
       "      <td>7.66</td>\n",
       "      <td>2023</td>\n",
       "      <td>1</td>\n",
       "      <td>1</td>\n",
       "      <td>1</td>\n",
       "      <td>Dañina</td>\n",
       "    </tr>\n",
       "    <tr>\n",
       "      <th>2023-01-01 02:00:00</th>\n",
       "      <td>2510.07</td>\n",
       "      <td>27.72</td>\n",
       "      <td>43.87</td>\n",
       "      <td>0.02</td>\n",
       "      <td>30.04</td>\n",
       "      <td>220.25</td>\n",
       "      <td>260.68</td>\n",
       "      <td>11.40</td>\n",
       "      <td>2023</td>\n",
       "      <td>1</td>\n",
       "      <td>1</td>\n",
       "      <td>2</td>\n",
       "      <td>Muy dañina</td>\n",
       "    </tr>\n",
       "    <tr>\n",
       "      <th>2023-01-01 03:00:00</th>\n",
       "      <td>3150.94</td>\n",
       "      <td>55.43</td>\n",
       "      <td>44.55</td>\n",
       "      <td>0.85</td>\n",
       "      <td>35.76</td>\n",
       "      <td>252.90</td>\n",
       "      <td>304.12</td>\n",
       "      <td>13.55</td>\n",
       "      <td>2023</td>\n",
       "      <td>1</td>\n",
       "      <td>1</td>\n",
       "      <td>3</td>\n",
       "      <td>Muy dañina</td>\n",
       "    </tr>\n",
       "    <tr>\n",
       "      <th>2023-01-01 04:00:00</th>\n",
       "      <td>3471.37</td>\n",
       "      <td>68.84</td>\n",
       "      <td>45.24</td>\n",
       "      <td>5.45</td>\n",
       "      <td>39.10</td>\n",
       "      <td>266.36</td>\n",
       "      <td>322.80</td>\n",
       "      <td>14.19</td>\n",
       "      <td>2023</td>\n",
       "      <td>1</td>\n",
       "      <td>1</td>\n",
       "      <td>4</td>\n",
       "      <td>Muy dañina</td>\n",
       "    </tr>\n",
       "  </tbody>\n",
       "</table>\n",
       "</div>"
      ],
      "text/plain": [
       "                          co     no    no2    o3    so2   pm2_5    pm10  \\\n",
       "date                                                                      \n",
       "2023-01-01 00:00:00  1655.58   1.66  39.41  5.90  17.88  169.29  194.64   \n",
       "2023-01-01 01:00:00  1869.20   6.82  42.16  1.99  22.17  182.84  211.08   \n",
       "2023-01-01 02:00:00  2510.07  27.72  43.87  0.02  30.04  220.25  260.68   \n",
       "2023-01-01 03:00:00  3150.94  55.43  44.55  0.85  35.76  252.90  304.12   \n",
       "2023-01-01 04:00:00  3471.37  68.84  45.24  5.45  39.10  266.36  322.80   \n",
       "\n",
       "                       nh3  year  month  day  hour ica_category  \n",
       "date                                                             \n",
       "2023-01-01 00:00:00   5.83  2023      1    1     0       Dañina  \n",
       "2023-01-01 01:00:00   7.66  2023      1    1     1       Dañina  \n",
       "2023-01-01 02:00:00  11.40  2023      1    1     2   Muy dañina  \n",
       "2023-01-01 03:00:00  13.55  2023      1    1     3   Muy dañina  \n",
       "2023-01-01 04:00:00  14.19  2023      1    1     4   Muy dañina  "
      ]
     },
     "metadata": {},
     "output_type": "display_data"
    }
   ],
   "source": [
    "# Limpiar y preparar los datos\n",
    "df_clean = dp.clean_dataframe(df_air_quality)\n",
    "\n",
    "# Agregar columna de categorías ICA (Índice de Calidad del Aire)\n",
    "df_clean = dp.add_ica_category(df_clean)\n",
    "\n",
    "# Mostrar las primera filas procesadas\n",
    "da.preview_data(df_clean, num_rows=5)"
   ]
  },
  {
   "cell_type": "code",
   "execution_count": 11,
   "id": "e16d7983",
   "metadata": {},
   "outputs": [
    {
     "name": "stdout",
     "output_type": "stream",
     "text": [
      "📋 Reporte de Calidad de Datos:\n",
      "rows: 561\n",
      "cols: 13\n",
      "duplicates: 0\n",
      "inferred_freq: h\n",
      "missing: {'co': 0, 'no': 0, 'no2': 0, 'o3': 0, 'so2': 0, 'pm2_5': 0, 'pm10': 0, 'nh3': 0, 'year': 0, 'month': 0, 'day': 0, 'hour': 0, 'ica_category': 0}\n"
     ]
    }
   ],
   "source": [
    "# Reporte de calidad de datos\n",
    "reporte = dp.quality_report(df_clean)\n",
    "\n",
    "print(\"📋 Reporte de Calidad de Datos:\")\n",
    "for key, value in reporte.items():\n",
    "    print(f\"{key}: {value}\")"
   ]
  },
  {
   "cell_type": "code",
   "execution_count": 12,
   "id": "e07b92e6",
   "metadata": {},
   "outputs": [
    {
     "name": "stdout",
     "output_type": "stream",
     "text": [
      "📊 Estadísticas descriptivas por contaminante:\n"
     ]
    },
    {
     "data": {
      "text/html": [
       "<div>\n",
       "<style scoped>\n",
       "    .dataframe tbody tr th:only-of-type {\n",
       "        vertical-align: middle;\n",
       "    }\n",
       "\n",
       "    .dataframe tbody tr th {\n",
       "        vertical-align: top;\n",
       "    }\n",
       "\n",
       "    .dataframe thead th {\n",
       "        text-align: right;\n",
       "    }\n",
       "</style>\n",
       "<table border=\"1\" class=\"dataframe\">\n",
       "  <thead>\n",
       "    <tr style=\"text-align: right;\">\n",
       "      <th></th>\n",
       "      <th>count</th>\n",
       "      <th>mean</th>\n",
       "      <th>std</th>\n",
       "      <th>min</th>\n",
       "      <th>p05</th>\n",
       "      <th>p50</th>\n",
       "      <th>p95</th>\n",
       "      <th>max</th>\n",
       "    </tr>\n",
       "  </thead>\n",
       "  <tbody>\n",
       "    <tr>\n",
       "      <th>co</th>\n",
       "      <td>561.0</td>\n",
       "      <td>3814.942210</td>\n",
       "      <td>3227.744681</td>\n",
       "      <td>654.22</td>\n",
       "      <td>1188.28</td>\n",
       "      <td>2590.18</td>\n",
       "      <td>11428.83</td>\n",
       "      <td>16876.22</td>\n",
       "    </tr>\n",
       "    <tr>\n",
       "      <th>no</th>\n",
       "      <td>561.0</td>\n",
       "      <td>51.181979</td>\n",
       "      <td>83.904476</td>\n",
       "      <td>0.00</td>\n",
       "      <td>0.00</td>\n",
       "      <td>13.30</td>\n",
       "      <td>236.03</td>\n",
       "      <td>425.58</td>\n",
       "    </tr>\n",
       "    <tr>\n",
       "      <th>no2</th>\n",
       "      <td>561.0</td>\n",
       "      <td>75.292496</td>\n",
       "      <td>42.473791</td>\n",
       "      <td>13.37</td>\n",
       "      <td>26.39</td>\n",
       "      <td>63.75</td>\n",
       "      <td>159.03</td>\n",
       "      <td>263.21</td>\n",
       "    </tr>\n",
       "    <tr>\n",
       "      <th>o3</th>\n",
       "      <td>561.0</td>\n",
       "      <td>30.141943</td>\n",
       "      <td>39.979405</td>\n",
       "      <td>0.00</td>\n",
       "      <td>0.00</td>\n",
       "      <td>11.80</td>\n",
       "      <td>124.45</td>\n",
       "      <td>164.51</td>\n",
       "    </tr>\n",
       "    <tr>\n",
       "      <th>so2</th>\n",
       "      <td>561.0</td>\n",
       "      <td>64.655936</td>\n",
       "      <td>61.073080</td>\n",
       "      <td>5.25</td>\n",
       "      <td>17.64</td>\n",
       "      <td>47.21</td>\n",
       "      <td>177.38</td>\n",
       "      <td>511.17</td>\n",
       "    </tr>\n",
       "    <tr>\n",
       "      <th>pm2_5</th>\n",
       "      <td>561.0</td>\n",
       "      <td>358.256364</td>\n",
       "      <td>227.359117</td>\n",
       "      <td>60.10</td>\n",
       "      <td>128.92</td>\n",
       "      <td>301.17</td>\n",
       "      <td>844.98</td>\n",
       "      <td>1310.20</td>\n",
       "    </tr>\n",
       "    <tr>\n",
       "      <th>pm10</th>\n",
       "      <td>561.0</td>\n",
       "      <td>420.988414</td>\n",
       "      <td>271.287026</td>\n",
       "      <td>69.08</td>\n",
       "      <td>158.34</td>\n",
       "      <td>340.90</td>\n",
       "      <td>1035.78</td>\n",
       "      <td>1499.27</td>\n",
       "    </tr>\n",
       "    <tr>\n",
       "      <th>nh3</th>\n",
       "      <td>561.0</td>\n",
       "      <td>26.425062</td>\n",
       "      <td>36.563094</td>\n",
       "      <td>0.63</td>\n",
       "      <td>4.31</td>\n",
       "      <td>14.82</td>\n",
       "      <td>102.34</td>\n",
       "      <td>267.51</td>\n",
       "    </tr>\n",
       "  </tbody>\n",
       "</table>\n",
       "</div>"
      ],
      "text/plain": [
       "       count         mean          std     min      p05      p50       p95  \\\n",
       "co     561.0  3814.942210  3227.744681  654.22  1188.28  2590.18  11428.83   \n",
       "no     561.0    51.181979    83.904476    0.00     0.00    13.30    236.03   \n",
       "no2    561.0    75.292496    42.473791   13.37    26.39    63.75    159.03   \n",
       "o3     561.0    30.141943    39.979405    0.00     0.00    11.80    124.45   \n",
       "so2    561.0    64.655936    61.073080    5.25    17.64    47.21    177.38   \n",
       "pm2_5  561.0   358.256364   227.359117   60.10   128.92   301.17    844.98   \n",
       "pm10   561.0   420.988414   271.287026   69.08   158.34   340.90   1035.78   \n",
       "nh3    561.0    26.425062    36.563094    0.63     4.31    14.82    102.34   \n",
       "\n",
       "            max  \n",
       "co     16876.22  \n",
       "no       425.58  \n",
       "no2      263.21  \n",
       "o3       164.51  \n",
       "so2      511.17  \n",
       "pm2_5   1310.20  \n",
       "pm10    1499.27  \n",
       "nh3      267.51  "
      ]
     },
     "metadata": {},
     "output_type": "display_data"
    }
   ],
   "source": [
    "# Estadísticas descriptivas\n",
    "desc = dp.descriptives(df_clean)\n",
    "print(\"📊 Estadísticas descriptivas por contaminante:\")\n",
    "display(desc)"
   ]
  },
  {
   "cell_type": "code",
   "execution_count": 13,
   "id": "2b1ab74d",
   "metadata": {},
   "outputs": [
    {
     "name": "stdout",
     "output_type": "stream",
     "text": [
      "📈 Promedio mensual de PM2.5:\n"
     ]
    },
    {
     "data": {
      "text/html": [
       "<div>\n",
       "<style scoped>\n",
       "    .dataframe tbody tr th:only-of-type {\n",
       "        vertical-align: middle;\n",
       "    }\n",
       "\n",
       "    .dataframe tbody tr th {\n",
       "        vertical-align: top;\n",
       "    }\n",
       "\n",
       "    .dataframe thead th {\n",
       "        text-align: right;\n",
       "    }\n",
       "</style>\n",
       "<table border=\"1\" class=\"dataframe\">\n",
       "  <thead>\n",
       "    <tr style=\"text-align: right;\">\n",
       "      <th></th>\n",
       "      <th>month</th>\n",
       "      <th>pm2_5</th>\n",
       "    </tr>\n",
       "  </thead>\n",
       "  <tbody>\n",
       "    <tr>\n",
       "      <th>0</th>\n",
       "      <td>1</td>\n",
       "      <td>358.256364</td>\n",
       "    </tr>\n",
       "  </tbody>\n",
       "</table>\n",
       "</div>"
      ],
      "text/plain": [
       "   month       pm2_5\n",
       "0      1  358.256364"
      ]
     },
     "execution_count": 13,
     "metadata": {},
     "output_type": "execute_result"
    }
   ],
   "source": [
    "# Promedios y resúmenes por mes\n",
    "\n",
    "# Crear instancia de análisis\n",
    "estacion = dp.EstacionCalidadAire(\"Delhi\", df_clean)\n",
    "\n",
    "# Promedio mensual de PM2.5\n",
    "prom_mes_pm25 = estacion.promedio_por_mes(\"pm2_5\")\n",
    "print(\"📈 Promedio mensual de PM2.5:\")\n",
    "prom_mes_pm25.head()"
   ]
  },
  {
   "cell_type": "code",
   "execution_count": 14,
   "id": "e0ed7346",
   "metadata": {},
   "outputs": [
    {
     "name": "stdout",
     "output_type": "stream",
     "text": [
      "🔝 Máximo global de PM2.5: 1310.2\n"
     ]
    }
   ],
   "source": [
    "# Obtener el máximo global de PM2.5\n",
    "maximo_mensual_pm25 = estacion.maximo_global(\"pm2_5\")\n",
    "print(f\"🔝 Máximo global de PM2.5: {maximo_mensual_pm25}\")"
   ]
  },
  {
   "cell_type": "code",
   "execution_count": 15,
   "id": "6169032d",
   "metadata": {},
   "outputs": [
    {
     "name": "stdout",
     "output_type": "stream",
     "text": [
      "🚨 Días más contaminados por PM2.5:\n"
     ]
    },
    {
     "data": {
      "text/html": [
       "<div>\n",
       "<style scoped>\n",
       "    .dataframe tbody tr th:only-of-type {\n",
       "        vertical-align: middle;\n",
       "    }\n",
       "\n",
       "    .dataframe tbody tr th {\n",
       "        vertical-align: top;\n",
       "    }\n",
       "\n",
       "    .dataframe thead th {\n",
       "        text-align: right;\n",
       "    }\n",
       "</style>\n",
       "<table border=\"1\" class=\"dataframe\">\n",
       "  <thead>\n",
       "    <tr style=\"text-align: right;\">\n",
       "      <th></th>\n",
       "      <th>date</th>\n",
       "      <th>pm2_5</th>\n",
       "    </tr>\n",
       "  </thead>\n",
       "  <tbody>\n",
       "    <tr>\n",
       "      <th>449</th>\n",
       "      <td>2023-01-19 17:00:00</td>\n",
       "      <td>1310.20</td>\n",
       "    </tr>\n",
       "    <tr>\n",
       "      <th>308</th>\n",
       "      <td>2023-01-13 20:00:00</td>\n",
       "      <td>1278.35</td>\n",
       "    </tr>\n",
       "    <tr>\n",
       "      <th>307</th>\n",
       "      <td>2023-01-13 19:00:00</td>\n",
       "      <td>1232.62</td>\n",
       "    </tr>\n",
       "    <tr>\n",
       "      <th>448</th>\n",
       "      <td>2023-01-19 16:00:00</td>\n",
       "      <td>1228.04</td>\n",
       "    </tr>\n",
       "    <tr>\n",
       "      <th>306</th>\n",
       "      <td>2023-01-13 18:00:00</td>\n",
       "      <td>1225.39</td>\n",
       "    </tr>\n",
       "  </tbody>\n",
       "</table>\n",
       "</div>"
      ],
      "text/plain": [
       "                   date    pm2_5\n",
       "449 2023-01-19 17:00:00  1310.20\n",
       "308 2023-01-13 20:00:00  1278.35\n",
       "307 2023-01-13 19:00:00  1232.62\n",
       "448 2023-01-19 16:00:00  1228.04\n",
       "306 2023-01-13 18:00:00  1225.39"
      ]
     },
     "metadata": {},
     "output_type": "display_data"
    }
   ],
   "source": [
    "# Días más contaminados\n",
    "dias_peores = estacion.top_n_dias_mas_contaminados(\"pm2_5\", n=5)\n",
    "print(\"🚨 Días más contaminados por PM2.5:\")\n",
    "display(dias_peores)"
   ]
  },
  {
   "cell_type": "code",
   "execution_count": 16,
   "id": "61d56134",
   "metadata": {},
   "outputs": [
    {
     "name": "stdout",
     "output_type": "stream",
     "text": [
      "📊 Distribución de categorías ICA:\n"
     ]
    },
    {
     "data": {
      "text/plain": [
       "ica_category\n",
       "Peligrosa                       282\n",
       "Muy dañina                      141\n",
       "Dañina                           81\n",
       "Dañina para grupos sensibles     48\n",
       "Moderada                          9\n",
       "Name: count, dtype: int64"
      ]
     },
     "metadata": {},
     "output_type": "display_data"
    }
   ],
   "source": [
    "# Contar registros por categoría ICA (Índice de Calidad del Aire)\n",
    "print(\"📊 Distribución de categorías ICA:\")\n",
    "display(df_clean[\"ica_category\"].value_counts())"
   ]
  },
  {
   "cell_type": "markdown",
   "id": "a5647905",
   "metadata": {},
   "source": [
    "# Modulo Visualizacion de datos"
   ]
  },
  {
   "cell_type": "code",
   "execution_count": 18,
   "id": "36963f54",
   "metadata": {},
   "outputs": [
    {
     "data": {
      "image/png": "[encoded data removed]",
      "text/plain": [
       "<Figure size 1600x1200 with 5 Axes>"
      ]
     },
     "metadata": {},
     "output_type": "display_data"
    }
   ],
   "source": [
    "dv.create_dashboard_summary(df_clean)"
   ]
  }
 ],
 "metadata": {
  "kernelspec": {
   "display_name": ".venv",
   "language": "python",
   "name": "python3"
  },
  "language_info": {
   "codemirror_mode": {
    "name": "ipython",
    "version": 3
   },
   "file_extension": ".py",
   "mimetype": "text/x-python",
   "name": "python",
   "nbconvert_exporter": "python",
   "pygments_lexer": "ipython3",
   "version": "3.13.7"
  }
 },
 "nbformat": 4,
 "nbformat_minor": 5
}
