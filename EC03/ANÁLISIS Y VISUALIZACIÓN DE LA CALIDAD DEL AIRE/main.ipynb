{
 "cells": [
  {
   "cell_type": "markdown",
   "id": "21177242",
   "metadata": {},
   "source": [
    "# 📊 Proyecto: Análisis y visualización de la calidad del aire: una exploración de contaminantes atmosféricos y su relación con el PM2.5\n",
    "**Curso:** Samsung Innovation Campus – Módulo de Python (Ecuador 2025)  \n",
    "**Seccion:** EC03  \n",
    "\n",
    "---\n",
    "\n",
    "## 🧩 Módulo 1: Adquisición de Datos\n",
    "\n",
    "En esta sección se carga el dataset, se explora su estructura general y se validan los rangos de los contaminantes.\n",
    "\n",
    "El dataset contiene mediciones de diferentes gases y partículas contaminantes en el aire, registradas con fecha y hora.\n"
   ]
  },
  {
   "cell_type": "code",
   "execution_count": null,
   "id": "4650af77",
   "metadata": {},
   "outputs": [],
   "source": [
    "# ===== Importar librerías principales ====\n",
    "import pandas as pd\n",
    "import numpy as np\n",
    "import warnings\n",
    "import src.data_acquisition as da\n",
    "\n",
    "warnings.filterwarnings('ignore')"
   ]
  },
  {
   "cell_type": "markdown",
   "id": "098d271c",
   "metadata": {},
   "source": [
    "### 📘 Descripción general de las columnas del dataset\n",
    "\n",
    "| Columna | Descripción | Relevancia |\n",
    "|----------|--------------|-------------|\n",
    "| 📅 **Date** | Fecha y hora del registro | Permite analizar variaciones temporales. |\n",
    "| 🏭 **CO** | Monóxido de carbono (ppm) | Gas tóxico, indicador de combustión incompleta. |\n",
    "| 🚗 **NO** | Óxido nítrico | Se genera en la quema de combustibles fósiles. |\n",
    "| 🚙 **NO2** | Dióxido de nitrógeno | Contaminante urbano, precursor del ozono. |\n",
    "| 🌫️ **O3** | Ozono troposférico | Se forma con NOx + luz solar; irritante respiratorio. |\n",
    "| 🌋 **SO2** | Dióxido de azufre | Proviene de la quema de carbón y petróleo. |\n",
    "| ☁️ **PM2.5** | Partículas finas < 2.5 μm | Altamente dañinas, ingresan a los pulmones. |\n",
    "| 🌧️ **PM10** | Partículas < 10 μm | Menos dañinas, quedan en vías respiratorias. |\n",
    "| 🍃 **NH3** | Amoníaco | De origen agrícola, contribuye a partículas secundarias. |\n"
   ]
  },
  {
   "cell_type": "code",
   "execution_count": null,
   "id": "e4926344",
   "metadata": {},
   "outputs": [],
   "source": [
    "# === Listar los archivos disponibles en la carpeta de datos ===\n",
    "da.list_data_files(\"src/data\")"
   ]
  }
 ],
 "metadata": {
  "language_info": {
   "name": "python"
  }
 },
 "nbformat": 4,
 "nbformat_minor": 5
}
