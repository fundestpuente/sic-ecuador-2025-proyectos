{
 "cells": [
  {
   "cell_type": "markdown",
   "id": "21177242",
   "metadata": {},
   "source": [
    "# 📊 Proyecto: Análisis y visualización de la calidad del aire: una exploración de contaminantes atmosféricos y su relación con el PM2.5\n",
    "**Curso:** Samsung Innovation Campus – Módulo de Python (Ecuador 2025)  \n",
    "**Seccion:** EC03  \n",
    "\n",
    "---\n",
    "\n",
    "## 🧩 Módulo 1: Adquisición de Datos\n",
    "\n",
    "En esta sección se carga el dataset, se explora su estructura general y se validan los rangos de los contaminantes.\n",
    "\n",
    "El dataset contiene mediciones de diferentes gases y partículas contaminantes en el aire, registradas con fecha y hora.\n"
   ]
  },
  {
   "cell_type": "markdown",
   "id": "098d271c",
   "metadata": {},
   "source": [
    "### 📘 Descripción general de las columnas del dataset\n",
    "\n",
    "| Columna | Descripción | Relevancia |\n",
    "|----------|--------------|-------------|\n",
    "| 📅 **Date** | Fecha y hora del registro | Permite analizar variaciones temporales. |\n",
    "| 🏭 **CO** | Monóxido de carbono (ppm) | Gas tóxico, indicador de combustión incompleta. |\n",
    "| 🚗 **NO** | Óxido nítrico | Se genera en la quema de combustibles fósiles. |\n",
    "| 🚙 **NO2** | Dióxido de nitrógeno | Contaminante urbano, precursor del ozono. |\n",
    "| 🌫️ **O3** | Ozono troposférico | Se forma con NOx + luz solar; irritante respiratorio. |\n",
    "| 🌋 **SO2** | Dióxido de azufre | Proviene de la quema de carbón y petróleo. |\n",
    "| ☁️ **PM2.5** | Partículas finas < 2.5 μm | Altamente dañinas, ingresan a los pulmones. |\n",
    "| 🌧️ **PM10** | Partículas < 10 μm | Menos dañinas, quedan en vías respiratorias. |\n",
    "| 🍃 **NH3** | Amoníaco | De origen agrícola, contribuye a partículas secundarias. |\n"
   ]
  },
  {
   "cell_type": "code",
   "execution_count": 73,
   "id": "4650af77",
   "metadata": {},
   "outputs": [],
   "source": [
    "# ===== Importar librerías principales ====\n",
    "import pandas as pd\n",
    "import numpy as np\n",
    "import warnings\n",
    "import importlib\n",
    "import src.data_acquisition as da\n",
    "import src.data_processing as dp\n",
    "import src.data_visualization as dv\n",
    "import src.data_interpretation as di\n",
    "\n",
    "# Recargar los módulos para reflejar cambios recientes\n",
    "importlib.reload(dp) \n",
    "importlib.reload(da)\n",
    "importlib.reload(dv)\n",
    "importlib.reload(di)\n",
    "\n",
    "warnings.filterwarnings('ignore')"
   ]
  },
  {
   "cell_type": "code",
   "execution_count": 76,
   "id": "e4926344",
   "metadata": {},
   "outputs": [
    {
     "name": "stdout",
     "output_type": "stream",
     "text": [
      "============================================================\n",
      "📂 Archivos disponibles en la carpeta\n",
      "============================================================\n",
      "- data\\delhiaqi.csv\n"
     ]
    }
   ],
   "source": [
    "# === Listar los archivos disponibles en la carpeta de datos ===\n",
    "print(\"=\"*60)\n",
    "print(\"📂 Archivos disponibles en la carpeta\")\n",
    "print(\"=\"*60)\n",
    "for file in da.list_data_files(\"data\"):\n",
    "    print(f\"- {file}\")"
   ]
  },
  {
   "cell_type": "code",
   "execution_count": 83,
   "id": "55283cc4",
   "metadata": {},
   "outputs": [
    {
     "name": "stdout",
     "output_type": "stream",
     "text": [
      "✅ Archivo 'data\\delhiaqi.csv' cargado exitosamente.\n"
     ]
    }
   ],
   "source": [
    "# Cargar de los datos del archivo CSV en un DataFrame\n",
    "df_air_quality = da.load_data_csv('data\\delhiaqi.csv')"
   ]
  },
  {
   "cell_type": "code",
   "execution_count": null,
   "id": "c50133e6",
   "metadata": {},
   "outputs": [
    {
     "name": "stdout",
     "output_type": "stream",
     "text": [
      "============================================================\n",
      "📊 Exploración inicial de los datos\n",
      "============================================================\n",
      "✅ Archivo 'data\\delhiaqi.csv' cargado exitosamente.\n"
     ]
    }
   ],
   "source": [
    "print(\"=\" * 60)\n",
    "print(\"📊 Exploración inicial de los datos\")\n",
    "print(\"=\" * 60)\n"
   ]
  }
 ],
 "metadata": {
  "kernelspec": {
   "display_name": "Python 3",
   "language": "python",
   "name": "python3"
  },
  "language_info": {
   "codemirror_mode": {
    "name": "ipython",
    "version": 3
   },
   "file_extension": ".py",
   "mimetype": "text/x-python",
   "name": "python",
   "nbconvert_exporter": "python",
   "pygments_lexer": "ipython3",
   "version": "3.13.7"
  }
 },
 "nbformat": 4,
 "nbformat_minor": 5
}
