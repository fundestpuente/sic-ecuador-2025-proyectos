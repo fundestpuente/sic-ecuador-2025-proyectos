{
 "cells": [
  {
   "cell_type": "markdown",
   "id": "21177242",
   "metadata": {},
   "source": [
    "# 📊 Proyecto: Análisis y visualización de la calidad del aire: una exploración de contaminantes atmosféricos y su relación con el PM2.5\n",
    "**Curso:** Samsung Innovation Campus – Módulo de Python (Ecuador 2025)  \n",
    "**Seccion:** EC03  \n",
    "\n",
    "---\n",
    "\n",
    "## 🧩 Módulo 1: Adquisición de Datos\n",
    "\n",
    "En esta sección se carga el dataset, se explora su estructura general y se validan los rangos de los contaminantes.\n",
    "\n",
    "El dataset contiene mediciones de diferentes gases y partículas contaminantes en el aire, registradas con fecha y hora.\n"
   ]
  },
  {
   "cell_type": "markdown",
   "id": "098d271c",
   "metadata": {},
   "source": [
    "### 📘 Descripción general de las columnas del dataset\n",
    "\n",
    "| Columna | Descripción | Relevancia |\n",
    "|----------|--------------|-------------|\n",
    "| 📅 **Date** | Fecha y hora del registro | Permite analizar variaciones temporales. |\n",
    "| 🏭 **CO** | Monóxido de carbono (ppm) | Gas tóxico, indicador de combustión incompleta. |\n",
    "| 🚗 **NO** | Óxido nítrico | Se genera en la quema de combustibles fósiles. |\n",
    "| 🚙 **NO2** | Dióxido de nitrógeno | Contaminante urbano, precursor del ozono. |\n",
    "| 🌫️ **O3** | Ozono troposférico | Se forma con NOx + luz solar; irritante respiratorio. |\n",
    "| 🌋 **SO2** | Dióxido de azufre | Proviene de la quema de carbón y petróleo. |\n",
    "| ☁️ **PM2.5** | Partículas finas < 2.5 μm | Altamente dañinas, ingresan a los pulmones. |\n",
    "| 🌧️ **PM10** | Partículas < 10 μm | Menos dañinas, quedan en vías respiratorias. |\n",
    "| 🍃 **NH3** | Amoníaco | De origen agrícola, contribuye a partículas secundarias. |\n"
   ]
  },
  {
   "cell_type": "code",
   "execution_count": 9,
   "id": "4650af77",
   "metadata": {},
   "outputs": [],
   "source": [
    "# ===== Importar librerías principales ====\n",
    "import pandas as pd\n",
    "import numpy as np\n",
    "import warnings\n",
    "import importlib\n",
    "import src.data_acquisition as da\n",
    "import src.data_processing as dp\n",
    "import src.data_visualization as dv\n",
    "import src.data_interpretation as di\n",
    "\n",
    "# Recargar los módulos para reflejar cambios recientes\n",
    "importlib.reload(dp) \n",
    "importlib.reload(da)\n",
    "importlib.reload(dv)\n",
    "importlib.reload(di)\n",
    "\n",
    "warnings.filterwarnings('ignore')"
   ]
  },
  {
   "cell_type": "code",
   "execution_count": 76,
   "id": "e4926344",
   "metadata": {},
   "outputs": [
    {
     "name": "stdout",
     "output_type": "stream",
     "text": [
      "============================================================\n",
      "📂 Archivos disponibles en la carpeta\n",
      "============================================================\n",
      "- data\\delhiaqi.csv\n"
     ]
    }
   ],
   "source": [
    "# === Listar los archivos disponibles en la carpeta de datos ===\n",
    "print(\"=\"*60)\n",
    "print(\"📂 Archivos disponibles en la carpeta\")\n",
    "print(\"=\"*60)\n",
    "for file in da.list_data_files(\"data\"):\n",
    "    print(f\"- {file}\")"
   ]
  },
  {
   "cell_type": "code",
   "execution_count": 5,
   "id": "55283cc4",
   "metadata": {},
   "outputs": [
    {
     "name": "stdout",
     "output_type": "stream",
     "text": [
      "✅ Archivo 'data\\delhiaqi.csv' cargado exitosamente.\n"
     ]
    }
   ],
   "source": [
    "# Cargar de los datos del archivo CSV en un DataFrame\n",
    "df_air_quality = da.load_data_csv('data\\delhiaqi.csv')"
   ]
  },
  {
   "cell_type": "code",
   "execution_count": 7,
   "id": "c50133e6",
   "metadata": {},
   "outputs": [
    {
     "name": "stdout",
     "output_type": "stream",
     "text": [
      "============================================================\n",
      "📊 Exploración inicial de los datos\n",
      "============================================================\n",
      "\n",
      "🔍 Primeras 5 filas del DataFrame:\n"
     ]
    },
    {
     "data": {
      "text/html": [
       "<div>\n",
       "<style scoped>\n",
       "    .dataframe tbody tr th:only-of-type {\n",
       "        vertical-align: middle;\n",
       "    }\n",
       "\n",
       "    .dataframe tbody tr th {\n",
       "        vertical-align: top;\n",
       "    }\n",
       "\n",
       "    .dataframe thead th {\n",
       "        text-align: right;\n",
       "    }\n",
       "</style>\n",
       "<table border=\"1\" class=\"dataframe\">\n",
       "  <thead>\n",
       "    <tr style=\"text-align: right;\">\n",
       "      <th></th>\n",
       "      <th>date</th>\n",
       "      <th>co</th>\n",
       "      <th>no</th>\n",
       "      <th>no2</th>\n",
       "      <th>o3</th>\n",
       "      <th>so2</th>\n",
       "      <th>pm2_5</th>\n",
       "      <th>pm10</th>\n",
       "      <th>nh3</th>\n",
       "    </tr>\n",
       "  </thead>\n",
       "  <tbody>\n",
       "    <tr>\n",
       "      <th>0</th>\n",
       "      <td>2023-01-01 00:00:00</td>\n",
       "      <td>1655.58</td>\n",
       "      <td>1.66</td>\n",
       "      <td>39.41</td>\n",
       "      <td>5.90</td>\n",
       "      <td>17.88</td>\n",
       "      <td>169.29</td>\n",
       "      <td>194.64</td>\n",
       "      <td>5.83</td>\n",
       "    </tr>\n",
       "    <tr>\n",
       "      <th>1</th>\n",
       "      <td>2023-01-01 01:00:00</td>\n",
       "      <td>1869.20</td>\n",
       "      <td>6.82</td>\n",
       "      <td>42.16</td>\n",
       "      <td>1.99</td>\n",
       "      <td>22.17</td>\n",
       "      <td>182.84</td>\n",
       "      <td>211.08</td>\n",
       "      <td>7.66</td>\n",
       "    </tr>\n",
       "    <tr>\n",
       "      <th>2</th>\n",
       "      <td>2023-01-01 02:00:00</td>\n",
       "      <td>2510.07</td>\n",
       "      <td>27.72</td>\n",
       "      <td>43.87</td>\n",
       "      <td>0.02</td>\n",
       "      <td>30.04</td>\n",
       "      <td>220.25</td>\n",
       "      <td>260.68</td>\n",
       "      <td>11.40</td>\n",
       "    </tr>\n",
       "    <tr>\n",
       "      <th>3</th>\n",
       "      <td>2023-01-01 03:00:00</td>\n",
       "      <td>3150.94</td>\n",
       "      <td>55.43</td>\n",
       "      <td>44.55</td>\n",
       "      <td>0.85</td>\n",
       "      <td>35.76</td>\n",
       "      <td>252.90</td>\n",
       "      <td>304.12</td>\n",
       "      <td>13.55</td>\n",
       "    </tr>\n",
       "    <tr>\n",
       "      <th>4</th>\n",
       "      <td>2023-01-01 04:00:00</td>\n",
       "      <td>3471.37</td>\n",
       "      <td>68.84</td>\n",
       "      <td>45.24</td>\n",
       "      <td>5.45</td>\n",
       "      <td>39.10</td>\n",
       "      <td>266.36</td>\n",
       "      <td>322.80</td>\n",
       "      <td>14.19</td>\n",
       "    </tr>\n",
       "  </tbody>\n",
       "</table>\n",
       "</div>"
      ],
      "text/plain": [
       "                  date       co     no    no2    o3    so2   pm2_5    pm10  \\\n",
       "0  2023-01-01 00:00:00  1655.58   1.66  39.41  5.90  17.88  169.29  194.64   \n",
       "1  2023-01-01 01:00:00  1869.20   6.82  42.16  1.99  22.17  182.84  211.08   \n",
       "2  2023-01-01 02:00:00  2510.07  27.72  43.87  0.02  30.04  220.25  260.68   \n",
       "3  2023-01-01 03:00:00  3150.94  55.43  44.55  0.85  35.76  252.90  304.12   \n",
       "4  2023-01-01 04:00:00  3471.37  68.84  45.24  5.45  39.10  266.36  322.80   \n",
       "\n",
       "     nh3  \n",
       "0   5.83  \n",
       "1   7.66  \n",
       "2  11.40  \n",
       "3  13.55  \n",
       "4  14.19  "
      ]
     },
     "metadata": {},
     "output_type": "display_data"
    }
   ],
   "source": [
    "print(\"=\" * 60)\n",
    "print(\"📊 Exploración inicial de los datos\")\n",
    "print(\"=\" * 60)\n",
    "\n",
    "# Mostrar filas del DataFrame\n",
    "da.preview_data(df_air_quality, num_rows=5)"
   ]
  },
  {
   "cell_type": "code",
   "execution_count": 13,
   "id": "48392968",
   "metadata": {},
   "outputs": [
    {
     "name": "stdout",
     "output_type": "stream",
     "text": [
      "\n",
      "📐 Dimensiones del DataFrame: 561 filas y 9 columnas\n"
     ]
    }
   ],
   "source": [
    "# Mostrar dimensiones del DataFrame\n",
    "da.get_dataframe_shape(df_air_quality)"
   ]
  },
  {
   "cell_type": "code",
   "execution_count": 12,
   "id": "ddb2f3ea",
   "metadata": {},
   "outputs": [
    {
     "name": "stdout",
     "output_type": "stream",
     "text": [
      "\n",
      "🧱 Columnas del Dataframe:\n",
      "['date', 'co', 'no', 'no2', 'o3', 'so2', 'pm2_5', 'pm10', 'nh3']\n",
      "\n",
      "📊 Información del DataFrame:\n",
      "<class 'pandas.core.frame.DataFrame'>\n",
      "RangeIndex: 561 entries, 0 to 560\n",
      "Data columns (total 9 columns):\n",
      " #   Column  Non-Null Count  Dtype  \n",
      "---  ------  --------------  -----  \n",
      " 0   date    561 non-null    object \n",
      " 1   co      561 non-null    float64\n",
      " 2   no      561 non-null    float64\n",
      " 3   no2     561 non-null    float64\n",
      " 4   o3      561 non-null    float64\n",
      " 5   so2     561 non-null    float64\n",
      " 6   pm2_5   561 non-null    float64\n",
      " 7   pm10    561 non-null    float64\n",
      " 8   nh3     561 non-null    float64\n",
      "dtypes: float64(8), object(1)\n",
      "memory usage: 39.6+ KB\n"
     ]
    }
   ],
   "source": [
    "# Mostrar información detallada del DataFrame\n",
    "da.get_dataframe_info(df_air_quality)"
   ]
  }
 ],
 "metadata": {
  "kernelspec": {
   "display_name": "Python 3",
   "language": "python",
   "name": "python3"
  },
  "language_info": {
   "codemirror_mode": {
    "name": "ipython",
    "version": 3
   },
   "file_extension": ".py",
   "mimetype": "text/x-python",
   "name": "python",
   "nbconvert_exporter": "python",
   "pygments_lexer": "ipython3",
   "version": "3.13.7"
  }
 },
 "nbformat": 4,
 "nbformat_minor": 5
}
