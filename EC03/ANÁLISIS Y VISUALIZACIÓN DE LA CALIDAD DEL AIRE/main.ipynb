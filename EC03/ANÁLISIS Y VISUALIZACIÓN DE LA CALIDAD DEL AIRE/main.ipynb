{
 "cells": [
  {
   "cell_type": "markdown",
   "id": "21177242",
   "metadata": {},
   "source": [
    "# 📊 Proyecto: Análisis y visualización de la calidad del aire: una exploración de contaminantes atmosféricos y su relación con el PM2.5\n",
    "**Curso:** Samsung Innovation Campus – Módulo de Python (Ecuador 2025)  \n",
    "**Seccion:** EC03  \n",
    "\n",
    "---\n",
    "\n",
    "## 🧩 Módulo: Adquisición de Datos\n",
    "\n",
    "En esta sección se carga el dataset, se explora su estructura general y se validan los rangos de los contaminantes.\n",
    "\n",
    "El dataset contiene mediciones de diferentes gases y partículas contaminantes en el aire, registradas con fecha y hora.\n"
   ]
  },
  {
   "cell_type": "markdown",
   "id": "098d271c",
   "metadata": {},
   "source": [
    "### 📘 Descripción general de las columnas del dataset\n",
    "\n",
    "| Columna | Descripción | Relevancia |\n",
    "|----------|--------------|-------------|\n",
    "| 📅 **Date** | Fecha y hora del registro | Permite analizar variaciones temporales. |\n",
    "| 🏭 **CO** | Monóxido de carbono (ppm) | Gas tóxico, indicador de combustión incompleta. |\n",
    "| 🚗 **NO** | Óxido nítrico | Se genera en la quema de combustibles fósiles. |\n",
    "| 🚙 **NO2** | Dióxido de nitrógeno | Contaminante urbano, precursor del ozono. |\n",
    "| 🌫️ **O3** | Ozono troposférico | Se forma con NOx + luz solar; irritante respiratorio. |\n",
    "| 🌋 **SO2** | Dióxido de azufre | Proviene de la quema de carbón y petróleo. |\n",
    "| ☁️ **PM2.5** | Partículas finas < 2.5 μm | Altamente dañinas, ingresan a los pulmones. |\n",
    "| 🌧️ **PM10** | Partículas < 10 μm | Menos dañinas, quedan en vías respiratorias. |\n",
    "| 🍃 **NH3** | Amoníaco | De origen agrícola, contribuye a partículas secundarias. |\n"
   ]
  },
  {
   "cell_type": "code",
   "execution_count": 207,
   "id": "4650af77",
   "metadata": {},
   "outputs": [],
   "source": [
    "# ===== Importar librerías principales ====\n",
    "import pandas as pd\n",
    "import numpy as np\n",
    "import warnings\n",
    "import importlib\n",
    "import src.data_acquisition as da\n",
    "import src.data_processing as dp\n",
    "import src.data_visualization as dv\n",
    "import src.data_interpretation as di\n",
    "\n",
    "# Recargar los módulos para reflejar cambios recientes\n",
    "importlib.reload(dp) \n",
    "importlib.reload(da)\n",
    "importlib.reload(dv)\n",
    "importlib.reload(di)\n",
    "\n",
    "warnings.filterwarnings('ignore')"
   ]
  },
  {
   "cell_type": "code",
   "execution_count": 208,
   "id": "e4926344",
   "metadata": {},
   "outputs": [
    {
     "name": "stdout",
     "output_type": "stream",
     "text": [
      "============================================================\n",
      "📂 Archivos disponibles en la carpeta\n",
      "============================================================\n",
      "- data\\delhiaqi.csv\n"
     ]
    }
   ],
   "source": [
    "# === Listar los archivos disponibles en la carpeta de datos ===\n",
    "print(\"=\"*60)\n",
    "print(\"📂 Archivos disponibles en la carpeta\")\n",
    "print(\"=\"*60)\n",
    "for file in da.list_data_files(\"data\"):\n",
    "    print(f\"- {file}\")"
   ]
  },
  {
   "cell_type": "code",
   "execution_count": 209,
   "id": "55283cc4",
   "metadata": {},
   "outputs": [
    {
     "name": "stdout",
     "output_type": "stream",
     "text": [
      "✅ Archivo 'data\\delhiaqi.csv' cargado exitosamente.\n"
     ]
    }
   ],
   "source": [
    "# Cargar de los datos del archivo CSV en un DataFrame\n",
    "df_air_quality = da.load_data_csv('data\\delhiaqi.csv')"
   ]
  },
  {
   "cell_type": "code",
   "execution_count": 210,
   "id": "c50133e6",
   "metadata": {},
   "outputs": [
    {
     "name": "stdout",
     "output_type": "stream",
     "text": [
      "============================================================\n",
      "📊 Exploración inicial de los datos\n",
      "============================================================\n",
      "\n",
      "🔍 Primeras 5 filas del DataFrame:\n"
     ]
    },
    {
     "data": {
      "text/html": [
       "<div>\n",
       "<style scoped>\n",
       "    .dataframe tbody tr th:only-of-type {\n",
       "        vertical-align: middle;\n",
       "    }\n",
       "\n",
       "    .dataframe tbody tr th {\n",
       "        vertical-align: top;\n",
       "    }\n",
       "\n",
       "    .dataframe thead th {\n",
       "        text-align: right;\n",
       "    }\n",
       "</style>\n",
       "<table border=\"1\" class=\"dataframe\">\n",
       "  <thead>\n",
       "    <tr style=\"text-align: right;\">\n",
       "      <th></th>\n",
       "      <th>date</th>\n",
       "      <th>co</th>\n",
       "      <th>no</th>\n",
       "      <th>no2</th>\n",
       "      <th>o3</th>\n",
       "      <th>so2</th>\n",
       "      <th>pm2_5</th>\n",
       "      <th>pm10</th>\n",
       "      <th>nh3</th>\n",
       "    </tr>\n",
       "  </thead>\n",
       "  <tbody>\n",
       "    <tr>\n",
       "      <th>0</th>\n",
       "      <td>2023-01-01 00:00:00</td>\n",
       "      <td>1655.58</td>\n",
       "      <td>1.66</td>\n",
       "      <td>39.41</td>\n",
       "      <td>5.90</td>\n",
       "      <td>17.88</td>\n",
       "      <td>169.29</td>\n",
       "      <td>194.64</td>\n",
       "      <td>5.83</td>\n",
       "    </tr>\n",
       "    <tr>\n",
       "      <th>1</th>\n",
       "      <td>2023-01-01 01:00:00</td>\n",
       "      <td>1869.20</td>\n",
       "      <td>6.82</td>\n",
       "      <td>42.16</td>\n",
       "      <td>1.99</td>\n",
       "      <td>22.17</td>\n",
       "      <td>182.84</td>\n",
       "      <td>211.08</td>\n",
       "      <td>7.66</td>\n",
       "    </tr>\n",
       "    <tr>\n",
       "      <th>2</th>\n",
       "      <td>2023-01-01 02:00:00</td>\n",
       "      <td>2510.07</td>\n",
       "      <td>27.72</td>\n",
       "      <td>43.87</td>\n",
       "      <td>0.02</td>\n",
       "      <td>30.04</td>\n",
       "      <td>220.25</td>\n",
       "      <td>260.68</td>\n",
       "      <td>11.40</td>\n",
       "    </tr>\n",
       "    <tr>\n",
       "      <th>3</th>\n",
       "      <td>2023-01-01 03:00:00</td>\n",
       "      <td>3150.94</td>\n",
       "      <td>55.43</td>\n",
       "      <td>44.55</td>\n",
       "      <td>0.85</td>\n",
       "      <td>35.76</td>\n",
       "      <td>252.90</td>\n",
       "      <td>304.12</td>\n",
       "      <td>13.55</td>\n",
       "    </tr>\n",
       "    <tr>\n",
       "      <th>4</th>\n",
       "      <td>2023-01-01 04:00:00</td>\n",
       "      <td>3471.37</td>\n",
       "      <td>68.84</td>\n",
       "      <td>45.24</td>\n",
       "      <td>5.45</td>\n",
       "      <td>39.10</td>\n",
       "      <td>266.36</td>\n",
       "      <td>322.80</td>\n",
       "      <td>14.19</td>\n",
       "    </tr>\n",
       "  </tbody>\n",
       "</table>\n",
       "</div>"
      ],
      "text/plain": [
       "                  date       co     no    no2    o3    so2   pm2_5    pm10  \\\n",
       "0  2023-01-01 00:00:00  1655.58   1.66  39.41  5.90  17.88  169.29  194.64   \n",
       "1  2023-01-01 01:00:00  1869.20   6.82  42.16  1.99  22.17  182.84  211.08   \n",
       "2  2023-01-01 02:00:00  2510.07  27.72  43.87  0.02  30.04  220.25  260.68   \n",
       "3  2023-01-01 03:00:00  3150.94  55.43  44.55  0.85  35.76  252.90  304.12   \n",
       "4  2023-01-01 04:00:00  3471.37  68.84  45.24  5.45  39.10  266.36  322.80   \n",
       "\n",
       "     nh3  \n",
       "0   5.83  \n",
       "1   7.66  \n",
       "2  11.40  \n",
       "3  13.55  \n",
       "4  14.19  "
      ]
     },
     "metadata": {},
     "output_type": "display_data"
    }
   ],
   "source": [
    "print(\"=\" * 60)\n",
    "print(\"📊 Exploración inicial de los datos\")\n",
    "print(\"=\" * 60)\n",
    "\n",
    "# Mostrar filas del DataFrame\n",
    "da.preview_data(df_air_quality, num_rows=5)"
   ]
  },
  {
   "cell_type": "code",
   "execution_count": 211,
   "id": "48392968",
   "metadata": {},
   "outputs": [
    {
     "name": "stdout",
     "output_type": "stream",
     "text": [
      "\n",
      "📐 Dimensiones del DataFrame: 561 filas y 9 columnas\n"
     ]
    }
   ],
   "source": [
    "# Mostrar dimensiones del DataFrame\n",
    "da.get_dataframe_shape(df_air_quality)"
   ]
  },
  {
   "cell_type": "code",
   "execution_count": 212,
   "id": "ddb2f3ea",
   "metadata": {},
   "outputs": [
    {
     "name": "stdout",
     "output_type": "stream",
     "text": [
      "\n",
      "🧱 Columnas del Dataframe:\n",
      "['date', 'co', 'no', 'no2', 'o3', 'so2', 'pm2_5', 'pm10', 'nh3']\n",
      "\n",
      "📊 Información del DataFrame:\n",
      "<class 'pandas.core.frame.DataFrame'>\n",
      "RangeIndex: 561 entries, 0 to 560\n",
      "Data columns (total 9 columns):\n",
      " #   Column  Non-Null Count  Dtype  \n",
      "---  ------  --------------  -----  \n",
      " 0   date    561 non-null    object \n",
      " 1   co      561 non-null    float64\n",
      " 2   no      561 non-null    float64\n",
      " 3   no2     561 non-null    float64\n",
      " 4   o3      561 non-null    float64\n",
      " 5   so2     561 non-null    float64\n",
      " 6   pm2_5   561 non-null    float64\n",
      " 7   pm10    561 non-null    float64\n",
      " 8   nh3     561 non-null    float64\n",
      "dtypes: float64(8), object(1)\n",
      "memory usage: 39.6+ KB\n"
     ]
    }
   ],
   "source": [
    "# Mostrar información detallada del DataFrame\n",
    "da.get_dataframe_info(df_air_quality)"
   ]
  },
  {
   "cell_type": "code",
   "execution_count": 213,
   "id": "464ce1f6",
   "metadata": {},
   "outputs": [
    {
     "name": "stdout",
     "output_type": "stream",
     "text": [
      "\n",
      "❗ Valores faltantes por columna:\n",
      "date     0\n",
      "co       0\n",
      "no       0\n",
      "no2      0\n",
      "o3       0\n",
      "so2      0\n",
      "pm2_5    0\n",
      "pm10     0\n",
      "nh3      0\n",
      "dtype: int64\n"
     ]
    }
   ],
   "source": [
    "# Mostrar los valores faltantes por columna\n",
    "da.get_missing_values(df_air_quality)"
   ]
  },
  {
   "cell_type": "markdown",
   "id": "f427c8ce",
   "metadata": {},
   "source": [
    "## 🧩 Módulo: Procesamiento y limpieza de datos\n",
    "En esta sección se prepara el conjunto de datos para el análisis.  \n",
    "Se aplican los siguientes pasos:\n",
    "\n",
    "1. Conversión de fechas al formato datetime.  \n",
    "2. Eliminación de duplicados y valores negativos.  \n",
    "3. Creación de columnas temporales (año, mes, día, hora).  \n",
    "4. Cálculo automático del **Índice de Calidad del Aire (ICA)** basado en PM2.5.  \n",
    "5. Clasificación en categorías: Buena, Moderada, Dañina, etc.  \n",
    "\n"
   ]
  },
  {
   "cell_type": "code",
   "execution_count": 214,
   "id": "72424dcb",
   "metadata": {},
   "outputs": [
    {
     "name": "stdout",
     "output_type": "stream",
     "text": [
      "✅ Datos limpios y listos para el análisis.\n",
      "\n",
      "🔍 Primeras 5 filas del DataFrame:\n"
     ]
    },
    {
     "data": {
      "text/html": [
       "<div>\n",
       "<style scoped>\n",
       "    .dataframe tbody tr th:only-of-type {\n",
       "        vertical-align: middle;\n",
       "    }\n",
       "\n",
       "    .dataframe tbody tr th {\n",
       "        vertical-align: top;\n",
       "    }\n",
       "\n",
       "    .dataframe thead th {\n",
       "        text-align: right;\n",
       "    }\n",
       "</style>\n",
       "<table border=\"1\" class=\"dataframe\">\n",
       "  <thead>\n",
       "    <tr style=\"text-align: right;\">\n",
       "      <th></th>\n",
       "      <th>co</th>\n",
       "      <th>no</th>\n",
       "      <th>no2</th>\n",
       "      <th>o3</th>\n",
       "      <th>so2</th>\n",
       "      <th>pm2_5</th>\n",
       "      <th>pm10</th>\n",
       "      <th>nh3</th>\n",
       "      <th>year</th>\n",
       "      <th>month</th>\n",
       "      <th>day</th>\n",
       "      <th>hour</th>\n",
       "      <th>ica_category</th>\n",
       "    </tr>\n",
       "    <tr>\n",
       "      <th>date</th>\n",
       "      <th></th>\n",
       "      <th></th>\n",
       "      <th></th>\n",
       "      <th></th>\n",
       "      <th></th>\n",
       "      <th></th>\n",
       "      <th></th>\n",
       "      <th></th>\n",
       "      <th></th>\n",
       "      <th></th>\n",
       "      <th></th>\n",
       "      <th></th>\n",
       "      <th></th>\n",
       "    </tr>\n",
       "  </thead>\n",
       "  <tbody>\n",
       "    <tr>\n",
       "      <th>2023-01-01 00:00:00</th>\n",
       "      <td>1655.58</td>\n",
       "      <td>1.66</td>\n",
       "      <td>39.41</td>\n",
       "      <td>5.90</td>\n",
       "      <td>17.88</td>\n",
       "      <td>169.29</td>\n",
       "      <td>194.64</td>\n",
       "      <td>5.83</td>\n",
       "      <td>2023</td>\n",
       "      <td>1</td>\n",
       "      <td>1</td>\n",
       "      <td>0</td>\n",
       "      <td>Dañina</td>\n",
       "    </tr>\n",
       "    <tr>\n",
       "      <th>2023-01-01 01:00:00</th>\n",
       "      <td>1869.20</td>\n",
       "      <td>6.82</td>\n",
       "      <td>42.16</td>\n",
       "      <td>1.99</td>\n",
       "      <td>22.17</td>\n",
       "      <td>182.84</td>\n",
       "      <td>211.08</td>\n",
       "      <td>7.66</td>\n",
       "      <td>2023</td>\n",
       "      <td>1</td>\n",
       "      <td>1</td>\n",
       "      <td>1</td>\n",
       "      <td>Dañina</td>\n",
       "    </tr>\n",
       "    <tr>\n",
       "      <th>2023-01-01 02:00:00</th>\n",
       "      <td>2510.07</td>\n",
       "      <td>27.72</td>\n",
       "      <td>43.87</td>\n",
       "      <td>0.02</td>\n",
       "      <td>30.04</td>\n",
       "      <td>220.25</td>\n",
       "      <td>260.68</td>\n",
       "      <td>11.40</td>\n",
       "      <td>2023</td>\n",
       "      <td>1</td>\n",
       "      <td>1</td>\n",
       "      <td>2</td>\n",
       "      <td>Muy dañina</td>\n",
       "    </tr>\n",
       "    <tr>\n",
       "      <th>2023-01-01 03:00:00</th>\n",
       "      <td>3150.94</td>\n",
       "      <td>55.43</td>\n",
       "      <td>44.55</td>\n",
       "      <td>0.85</td>\n",
       "      <td>35.76</td>\n",
       "      <td>252.90</td>\n",
       "      <td>304.12</td>\n",
       "      <td>13.55</td>\n",
       "      <td>2023</td>\n",
       "      <td>1</td>\n",
       "      <td>1</td>\n",
       "      <td>3</td>\n",
       "      <td>Muy dañina</td>\n",
       "    </tr>\n",
       "    <tr>\n",
       "      <th>2023-01-01 04:00:00</th>\n",
       "      <td>3471.37</td>\n",
       "      <td>68.84</td>\n",
       "      <td>45.24</td>\n",
       "      <td>5.45</td>\n",
       "      <td>39.10</td>\n",
       "      <td>266.36</td>\n",
       "      <td>322.80</td>\n",
       "      <td>14.19</td>\n",
       "      <td>2023</td>\n",
       "      <td>1</td>\n",
       "      <td>1</td>\n",
       "      <td>4</td>\n",
       "      <td>Muy dañina</td>\n",
       "    </tr>\n",
       "  </tbody>\n",
       "</table>\n",
       "</div>"
      ],
      "text/plain": [
       "                          co     no    no2    o3    so2   pm2_5    pm10  \\\n",
       "date                                                                      \n",
       "2023-01-01 00:00:00  1655.58   1.66  39.41  5.90  17.88  169.29  194.64   \n",
       "2023-01-01 01:00:00  1869.20   6.82  42.16  1.99  22.17  182.84  211.08   \n",
       "2023-01-01 02:00:00  2510.07  27.72  43.87  0.02  30.04  220.25  260.68   \n",
       "2023-01-01 03:00:00  3150.94  55.43  44.55  0.85  35.76  252.90  304.12   \n",
       "2023-01-01 04:00:00  3471.37  68.84  45.24  5.45  39.10  266.36  322.80   \n",
       "\n",
       "                       nh3  year  month  day  hour ica_category  \n",
       "date                                                             \n",
       "2023-01-01 00:00:00   5.83  2023      1    1     0       Dañina  \n",
       "2023-01-01 01:00:00   7.66  2023      1    1     1       Dañina  \n",
       "2023-01-01 02:00:00  11.40  2023      1    1     2   Muy dañina  \n",
       "2023-01-01 03:00:00  13.55  2023      1    1     3   Muy dañina  \n",
       "2023-01-01 04:00:00  14.19  2023      1    1     4   Muy dañina  "
      ]
     },
     "metadata": {},
     "output_type": "display_data"
    }
   ],
   "source": [
    "# Limpiar y preparar los datos\n",
    "df_clean = dp.clean_dataframe(df_air_quality)\n",
    "\n",
    "# Agregar columna de categorías ICA (Índice de Calidad del Aire)\n",
    "df_clean = dp.add_ica_category(df_clean)\n",
    "\n",
    "# Mostrar las primera filas procesadas\n",
    "da.preview_data(df_clean, num_rows=5)"
   ]
  },
  {
   "cell_type": "code",
   "execution_count": 215,
   "id": "e16d7983",
   "metadata": {},
   "outputs": [
    {
     "name": "stdout",
     "output_type": "stream",
     "text": [
      "📋 Reporte de Calidad de Datos:\n",
      "rows: 561\n",
      "cols: 13\n",
      "duplicates: 0\n",
      "inferred_freq: h\n",
      "missing: {'co': 0, 'no': 0, 'no2': 0, 'o3': 0, 'so2': 0, 'pm2_5': 0, 'pm10': 0, 'nh3': 0, 'year': 0, 'month': 0, 'day': 0, 'hour': 0, 'ica_category': 0}\n"
     ]
    }
   ],
   "source": [
    "# Reporte de calidad de datos\n",
    "reporte = dp.quality_report(df_clean)\n",
    "\n",
    "print(\"📋 Reporte de Calidad de Datos:\")\n",
    "for key, value in reporte.items():\n",
    "    print(f\"{key}: {value}\")"
   ]
  },
  {
   "cell_type": "code",
   "execution_count": 216,
   "id": "e07b92e6",
   "metadata": {},
   "outputs": [
    {
     "name": "stdout",
     "output_type": "stream",
     "text": [
      "📊 Estadísticas descriptivas por contaminante:\n"
     ]
    },
    {
     "data": {
      "text/html": [
       "<div>\n",
       "<style scoped>\n",
       "    .dataframe tbody tr th:only-of-type {\n",
       "        vertical-align: middle;\n",
       "    }\n",
       "\n",
       "    .dataframe tbody tr th {\n",
       "        vertical-align: top;\n",
       "    }\n",
       "\n",
       "    .dataframe thead th {\n",
       "        text-align: right;\n",
       "    }\n",
       "</style>\n",
       "<table border=\"1\" class=\"dataframe\">\n",
       "  <thead>\n",
       "    <tr style=\"text-align: right;\">\n",
       "      <th></th>\n",
       "      <th>count</th>\n",
       "      <th>mean</th>\n",
       "      <th>std</th>\n",
       "      <th>min</th>\n",
       "      <th>p05</th>\n",
       "      <th>p50</th>\n",
       "      <th>p95</th>\n",
       "      <th>max</th>\n",
       "    </tr>\n",
       "  </thead>\n",
       "  <tbody>\n",
       "    <tr>\n",
       "      <th>co</th>\n",
       "      <td>561.0</td>\n",
       "      <td>3814.942210</td>\n",
       "      <td>3227.744681</td>\n",
       "      <td>654.22</td>\n",
       "      <td>1188.28</td>\n",
       "      <td>2590.18</td>\n",
       "      <td>11428.83</td>\n",
       "      <td>16876.22</td>\n",
       "    </tr>\n",
       "    <tr>\n",
       "      <th>no</th>\n",
       "      <td>561.0</td>\n",
       "      <td>51.181979</td>\n",
       "      <td>83.904476</td>\n",
       "      <td>0.00</td>\n",
       "      <td>0.00</td>\n",
       "      <td>13.30</td>\n",
       "      <td>236.03</td>\n",
       "      <td>425.58</td>\n",
       "    </tr>\n",
       "    <tr>\n",
       "      <th>no2</th>\n",
       "      <td>561.0</td>\n",
       "      <td>75.292496</td>\n",
       "      <td>42.473791</td>\n",
       "      <td>13.37</td>\n",
       "      <td>26.39</td>\n",
       "      <td>63.75</td>\n",
       "      <td>159.03</td>\n",
       "      <td>263.21</td>\n",
       "    </tr>\n",
       "    <tr>\n",
       "      <th>o3</th>\n",
       "      <td>561.0</td>\n",
       "      <td>30.141943</td>\n",
       "      <td>39.979405</td>\n",
       "      <td>0.00</td>\n",
       "      <td>0.00</td>\n",
       "      <td>11.80</td>\n",
       "      <td>124.45</td>\n",
       "      <td>164.51</td>\n",
       "    </tr>\n",
       "    <tr>\n",
       "      <th>so2</th>\n",
       "      <td>561.0</td>\n",
       "      <td>64.655936</td>\n",
       "      <td>61.073080</td>\n",
       "      <td>5.25</td>\n",
       "      <td>17.64</td>\n",
       "      <td>47.21</td>\n",
       "      <td>177.38</td>\n",
       "      <td>511.17</td>\n",
       "    </tr>\n",
       "    <tr>\n",
       "      <th>pm2_5</th>\n",
       "      <td>561.0</td>\n",
       "      <td>358.256364</td>\n",
       "      <td>227.359117</td>\n",
       "      <td>60.10</td>\n",
       "      <td>128.92</td>\n",
       "      <td>301.17</td>\n",
       "      <td>844.98</td>\n",
       "      <td>1310.20</td>\n",
       "    </tr>\n",
       "    <tr>\n",
       "      <th>pm10</th>\n",
       "      <td>561.0</td>\n",
       "      <td>420.988414</td>\n",
       "      <td>271.287026</td>\n",
       "      <td>69.08</td>\n",
       "      <td>158.34</td>\n",
       "      <td>340.90</td>\n",
       "      <td>1035.78</td>\n",
       "      <td>1499.27</td>\n",
       "    </tr>\n",
       "    <tr>\n",
       "      <th>nh3</th>\n",
       "      <td>561.0</td>\n",
       "      <td>26.425062</td>\n",
       "      <td>36.563094</td>\n",
       "      <td>0.63</td>\n",
       "      <td>4.31</td>\n",
       "      <td>14.82</td>\n",
       "      <td>102.34</td>\n",
       "      <td>267.51</td>\n",
       "    </tr>\n",
       "  </tbody>\n",
       "</table>\n",
       "</div>"
      ],
      "text/plain": [
       "       count         mean          std     min      p05      p50       p95  \\\n",
       "co     561.0  3814.942210  3227.744681  654.22  1188.28  2590.18  11428.83   \n",
       "no     561.0    51.181979    83.904476    0.00     0.00    13.30    236.03   \n",
       "no2    561.0    75.292496    42.473791   13.37    26.39    63.75    159.03   \n",
       "o3     561.0    30.141943    39.979405    0.00     0.00    11.80    124.45   \n",
       "so2    561.0    64.655936    61.073080    5.25    17.64    47.21    177.38   \n",
       "pm2_5  561.0   358.256364   227.359117   60.10   128.92   301.17    844.98   \n",
       "pm10   561.0   420.988414   271.287026   69.08   158.34   340.90   1035.78   \n",
       "nh3    561.0    26.425062    36.563094    0.63     4.31    14.82    102.34   \n",
       "\n",
       "            max  \n",
       "co     16876.22  \n",
       "no       425.58  \n",
       "no2      263.21  \n",
       "o3       164.51  \n",
       "so2      511.17  \n",
       "pm2_5   1310.20  \n",
       "pm10    1499.27  \n",
       "nh3      267.51  "
      ]
     },
     "metadata": {},
     "output_type": "display_data"
    }
   ],
   "source": [
    "# Estadísticas descriptivas\n",
    "desc = dp.descriptives(df_clean)\n",
    "print(\"📊 Estadísticas descriptivas por contaminante:\")\n",
    "display(desc)"
   ]
  },
  {
   "cell_type": "code",
   "execution_count": 217,
   "id": "2b1ab74d",
   "metadata": {},
   "outputs": [
    {
     "name": "stdout",
     "output_type": "stream",
     "text": [
      "📈 Promedio mensual de PM2.5:\n"
     ]
    },
    {
     "data": {
      "text/html": [
       "<div>\n",
       "<style scoped>\n",
       "    .dataframe tbody tr th:only-of-type {\n",
       "        vertical-align: middle;\n",
       "    }\n",
       "\n",
       "    .dataframe tbody tr th {\n",
       "        vertical-align: top;\n",
       "    }\n",
       "\n",
       "    .dataframe thead th {\n",
       "        text-align: right;\n",
       "    }\n",
       "</style>\n",
       "<table border=\"1\" class=\"dataframe\">\n",
       "  <thead>\n",
       "    <tr style=\"text-align: right;\">\n",
       "      <th></th>\n",
       "      <th>month</th>\n",
       "      <th>pm2_5</th>\n",
       "    </tr>\n",
       "  </thead>\n",
       "  <tbody>\n",
       "    <tr>\n",
       "      <th>0</th>\n",
       "      <td>1</td>\n",
       "      <td>358.256364</td>\n",
       "    </tr>\n",
       "  </tbody>\n",
       "</table>\n",
       "</div>"
      ],
      "text/plain": [
       "   month       pm2_5\n",
       "0      1  358.256364"
      ]
     },
     "execution_count": 217,
     "metadata": {},
     "output_type": "execute_result"
    }
   ],
   "source": [
    "# Promedios y resúmenes por mes\n",
    "\n",
    "# Crear instancia de análisis\n",
    "estacion = dp.EstacionCalidadAire(\"Delhi\", df_clean)\n",
    "\n",
    "# Promedio mensual de PM2.5\n",
    "prom_mes_pm25 = estacion.promedio_por_mes(\"pm2_5\")\n",
    "print(\"📈 Promedio mensual de PM2.5:\")\n",
    "prom_mes_pm25.head()"
   ]
  },
  {
   "cell_type": "code",
   "execution_count": 218,
   "id": "e0ed7346",
   "metadata": {},
   "outputs": [
    {
     "name": "stdout",
     "output_type": "stream",
     "text": [
      "🔝 Máximo global de PM2.5: 1310.2\n"
     ]
    }
   ],
   "source": [
    "# Obtener el máximo global de PM2.5\n",
    "maximo_mensual_pm25 = estacion.maximo_global(\"pm2_5\")\n",
    "print(f\"🔝 Máximo global de PM2.5: {maximo_mensual_pm25}\")"
   ]
  },
  {
   "cell_type": "code",
   "execution_count": 219,
   "id": "6169032d",
   "metadata": {},
   "outputs": [
    {
     "name": "stdout",
     "output_type": "stream",
     "text": [
      "🚨 Días más contaminados por PM2.5:\n"
     ]
    },
    {
     "data": {
      "text/html": [
       "<div>\n",
       "<style scoped>\n",
       "    .dataframe tbody tr th:only-of-type {\n",
       "        vertical-align: middle;\n",
       "    }\n",
       "\n",
       "    .dataframe tbody tr th {\n",
       "        vertical-align: top;\n",
       "    }\n",
       "\n",
       "    .dataframe thead th {\n",
       "        text-align: right;\n",
       "    }\n",
       "</style>\n",
       "<table border=\"1\" class=\"dataframe\">\n",
       "  <thead>\n",
       "    <tr style=\"text-align: right;\">\n",
       "      <th></th>\n",
       "      <th>date</th>\n",
       "      <th>pm2_5</th>\n",
       "    </tr>\n",
       "  </thead>\n",
       "  <tbody>\n",
       "    <tr>\n",
       "      <th>449</th>\n",
       "      <td>2023-01-19 17:00:00</td>\n",
       "      <td>1310.20</td>\n",
       "    </tr>\n",
       "    <tr>\n",
       "      <th>308</th>\n",
       "      <td>2023-01-13 20:00:00</td>\n",
       "      <td>1278.35</td>\n",
       "    </tr>\n",
       "    <tr>\n",
       "      <th>307</th>\n",
       "      <td>2023-01-13 19:00:00</td>\n",
       "      <td>1232.62</td>\n",
       "    </tr>\n",
       "    <tr>\n",
       "      <th>448</th>\n",
       "      <td>2023-01-19 16:00:00</td>\n",
       "      <td>1228.04</td>\n",
       "    </tr>\n",
       "    <tr>\n",
       "      <th>306</th>\n",
       "      <td>2023-01-13 18:00:00</td>\n",
       "      <td>1225.39</td>\n",
       "    </tr>\n",
       "  </tbody>\n",
       "</table>\n",
       "</div>"
      ],
      "text/plain": [
       "                   date    pm2_5\n",
       "449 2023-01-19 17:00:00  1310.20\n",
       "308 2023-01-13 20:00:00  1278.35\n",
       "307 2023-01-13 19:00:00  1232.62\n",
       "448 2023-01-19 16:00:00  1228.04\n",
       "306 2023-01-13 18:00:00  1225.39"
      ]
     },
     "metadata": {},
     "output_type": "display_data"
    }
   ],
   "source": [
    "# Días más contaminados\n",
    "dias_peores = estacion.top_n_dias_mas_contaminados(\"pm2_5\", n=5)\n",
    "print(\"🚨 Días más contaminados por PM2.5:\")\n",
    "display(dias_peores)"
   ]
  },
  {
   "cell_type": "code",
   "execution_count": 220,
   "id": "61d56134",
   "metadata": {},
   "outputs": [
    {
     "name": "stdout",
     "output_type": "stream",
     "text": [
      "📊 Distribución de categorías ICA:\n"
     ]
    },
    {
     "data": {
      "text/plain": [
       "ica_category\n",
       "Peligrosa                       282\n",
       "Muy dañina                      141\n",
       "Dañina                           81\n",
       "Dañina para grupos sensibles     48\n",
       "Moderada                          9\n",
       "Name: count, dtype: int64"
      ]
     },
     "metadata": {},
     "output_type": "display_data"
    }
   ],
   "source": [
    "# Contar registros por categoría ICA (Índice de Calidad del Aire)\n",
    "print(\"📊 Distribución de categorías ICA:\")\n",
    "display(df_clean[\"ica_category\"].value_counts())"
   ]
  }
 ],
 "metadata": {
  "kernelspec": {
   "display_name": "Python 3",
   "language": "python",
   "name": "python3"
  },
  "language_info": {
   "codemirror_mode": {
    "name": "ipython",
    "version": 3
   },
   "file_extension": ".py",
   "mimetype": "text/x-python",
   "name": "python",
   "nbconvert_exporter": "python",
   "pygments_lexer": "ipython3",
   "version": "3.13.7"
  }
 },
 "nbformat": 4,
 "nbformat_minor": 5
}
