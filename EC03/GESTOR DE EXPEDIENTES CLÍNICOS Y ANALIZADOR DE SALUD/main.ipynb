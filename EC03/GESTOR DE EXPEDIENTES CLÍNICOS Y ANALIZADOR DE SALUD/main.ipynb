{
 "cells": [
  {
   "cell_type": "code",
   "execution_count": 2,
   "id": "0ecf2eb1",
   "metadata": {},
   "outputs": [
    {
     "name": "stdout",
     "output_type": "stream",
     "text": [
      "============================================================\n",
      "Riesgos Cardiovasculares y de Circulación\n",
      "============================================================\n",
      "Riesgo de Enfermedad Coronaria (Aterosclerosis)\n",
      "============================================================\n",
      "Trastornos Metabólicos\n",
      "============================================================\n",
      "============================================================\n",
      "Riesgo de Enfermedad Renal\n",
      "============================================================\n",
      "No se encontró el archivo en la ruta: EC03/GESTOR DE EXPEDIENTES CLÍNICOS Y ANALIZADOR DE SALUD/data/dataset_final.csv\n"
     ]
    }
   ],
   "source": [
    "# Importamos nuestros módulos con las herramientas que creamos\n",
    "import src.ProcesamientoDatos as p\n",
    "import src.Visualizacion as v"
   ]
  },
  {
   "cell_type": "code",
   "execution_count": null,
   "id": "e19eb865",
   "metadata": {},
   "outputs": [
    {
     "name": "stdout",
     "output_type": "stream",
     "text": [
      "============================================================\n",
      "GESTOR DE EXPEDIENTES CLÍNICOS Y ANALIZADOR DE SALUD\n",
      "============================================================\n",
      "\n",
      "¿Qué deseas hacer?\n",
      "1. Analizar un paciente por ID\n",
      "2. Analizar un paciente por Nombre\n",
      "3. Generar gráficos de análisis de todos los pacientes\n",
      "4. Salir\n",
      "Opción no válida. Por favor, elige una de las opciones disponibles.\n",
      "\n",
      "¿Qué deseas hacer?\n",
      "1. Analizar un paciente por ID\n",
      "2. Analizar un paciente por Nombre\n",
      "3. Generar gráficos de análisis de todos los pacientes\n",
      "4. Salir\n",
      "\n",
      "¿Qué deseas hacer?\n",
      "1. Analizar un paciente por ID\n",
      "2. Analizar un paciente por Nombre\n",
      "3. Generar gráficos de análisis de todos los pacientes\n",
      "4. Salir\n",
      "\n",
      "¿Qué deseas hacer?\n",
      "1. Analizar un paciente por ID\n",
      "2. Analizar un paciente por Nombre\n",
      "3. Generar gráficos de análisis de todos los pacientes\n",
      "4. Salir\n",
      "Hasta luego!!!\n"
     ]
    }
   ],
   "source": [
    "\n",
    "# FUNCIÓN PRINCIPAL DE EJECUCIÓN\n",
    "def main():\n",
    "    print(\"=\"*60)\n",
    "    print(\"GESTOR DE EXPEDIENTES CLÍNICOS Y ANALIZADOR DE SALUD\")\n",
    "    print(\"=\"*60)\n",
    "    \n",
    "    ruta_del_archivo = \"data/dataset_final.csv\"\n",
    "    datos_pacientes = p.cargar_y_preparar_datos(ruta_del_archivo)\n",
    "\n",
    "    # Si el archivo no se carga, el programa termina\n",
    "    if datos_pacientes is None:\n",
    "        return\n",
    "\n",
    "    # Menú principal para el usuario\n",
    "    while True:\n",
    "        print(\"\\n¿Qué deseas hacer?\")\n",
    "        print(\"1. Analizar un paciente por ID\")\n",
    "        print(\"2. Analizar un paciente por Nombre\") \n",
    "        print(\"3. Generar gráficos de análisis de todos los pacientes\")\n",
    "        print(\"4. Salir\")\n",
    "        \n",
    "        opcion = input(\"Elige una opción: \")\n",
    "\n",
    "        if opcion == '1':\n",
    "          \"\"\"  try:\n",
    "                id_a_buscar = int(input(\"Introduce el ID del paciente: \"))\n",
    "                # Se llama a la función de búsqueda con el parámetro 'patient_id'\n",
    "                paciente = p.buscar_paciente(datos_pacientes, patient_id=id_a_buscar)\n",
    "                if paciente is not None:\n",
    "                    p.generar_informe_paciente(paciente)\n",
    "            except ValueError:\n",
    "                print(\"ID no válido. Por favor, introduce un número.\")\n",
    "        \n",
    "        elif opcion == '2':\n",
    "            # --- LÓGICA PARA BUSCAR POR NOMBRE ---\n",
    "            nombre_a_buscar = input(\"Introduce el Nombre y Apellido del paciente: \")\n",
    "            # Se llama a la MISMA función de búsqueda, pero con el parámetro 'nombre_completo'\n",
    "            paciente = p.buscar_paciente(datos_pacientes, nombre_completo=nombre_a_buscar)\n",
    "            if paciente is not None:\n",
    "                # Si se encuentra, se genera el informe como antes\n",
    "                p.generar_informe_paciente(paciente)\"\"\"\n",
    "\n",
    "        elif opcion == '3':\n",
    "           \n",
    "            print(\"h\")\n",
    "        elif opcion == '4':\n",
    "            print(\"Hasta luego!!!\")\n",
    "            break\n",
    "        \n",
    "        else:\n",
    "            print(\"Opción no válida. Por favor, elige una de las opciones disponibles.\")\n",
    "            \n",
    "\n",
    "if __name__ == \"__main__\":\n",
    "    main()"
   ]
  }
 ],
 "metadata": {
  "kernelspec": {
   "display_name": "Python 3",
   "language": "python",
   "name": "python3"
  },
  "language_info": {
   "codemirror_mode": {
    "name": "ipython",
    "version": 3
   },
   "file_extension": ".py",
   "mimetype": "text/x-python",
   "name": "python",
   "nbconvert_exporter": "python",
   "pygments_lexer": "ipython3",
   "version": "3.13.7"
  }
 },
 "nbformat": 4,
 "nbformat_minor": 5
}
