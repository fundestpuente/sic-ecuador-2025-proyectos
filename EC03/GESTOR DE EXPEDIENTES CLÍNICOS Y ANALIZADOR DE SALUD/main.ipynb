{
 "cells": [
  {
   "cell_type": "code",
   "execution_count": 2,
   "id": "0ecf2eb1",
   "metadata": {},
   "outputs": [
    {
     "name": "stdout",
     "output_type": "stream",
     "text": [
      "============================================================\n",
      "Riesgos Cardiovasculares y de Circulación\n",
      "============================================================\n",
      "Riesgo de Enfermedad Coronaria (Aterosclerosis)\n",
      "============================================================\n",
      "Trastornos Metabólicos\n",
      "============================================================\n",
      "============================================================\n",
      "Riesgo de Enfermedad Renal\n",
      "============================================================\n",
      "No se encontró el archivo en la ruta: EC03/GESTOR DE EXPEDIENTES CLÍNICOS Y ANALIZADOR DE SALUD/data/dataset_final.csv\n"
     ]
    }
   ],
   "source": [
    "# Importamos nuestros módulos con las herramientas que creamos\n",
    "import src.ProcesamientoDatos as p\n",
    "import src.Visualizacion as v"
   ]
  },
  {
   "cell_type": "code",
   "execution_count": null,
   "id": "e19eb865",
   "metadata": {},
   "outputs": [
    {
     "name": "stdout",
     "output_type": "stream",
     "text": [
      "============================================================\n",
      "GESTOR DE EXPEDIENTES CLÍNICOS Y ANALIZADOR DE SALUD\n",
      "============================================================\n",
      "\n",
      "¿Qué deseas hacer?\n",
      "1. Analizar un paciente por ID\n",
      "2. Analizar un paciente por Nombre\n",
      "3. Generar gráficos de análisis de todos los pacientes\n",
      "4. Salir\n",
      "\n",
      "Paciente encontrado por nombre: 'Christopher Bright'\n",
      "\n",
      "--- INFORME DE SALUD PARA EL PACIENTE ID: 1012 ---\n",
      "------------------------------------------------------------\n"
     ]
    },
    {
     "ename": "ValueError",
     "evalue": "too many values to unpack (expected 2)",
     "output_type": "error",
     "traceback": [
      "\u001b[31m---------------------------------------------------------------------------\u001b[39m",
      "\u001b[31mValueError\u001b[39m                                Traceback (most recent call last)",
      "\u001b[36mCell\u001b[39m\u001b[36m \u001b[39m\u001b[32mIn[7]\u001b[39m\u001b[32m, line 55\u001b[39m\n\u001b[32m     51\u001b[39m             \u001b[38;5;28mprint\u001b[39m(\u001b[33m\"\u001b[39m\u001b[33mOpción no válida. Por favor, elige una de las opciones disponibles.\u001b[39m\u001b[33m\"\u001b[39m)\n\u001b[32m     54\u001b[39m \u001b[38;5;28;01mif\u001b[39;00m \u001b[34m__name__\u001b[39m == \u001b[33m\"\u001b[39m\u001b[33m__main__\u001b[39m\u001b[33m\"\u001b[39m:\n\u001b[32m---> \u001b[39m\u001b[32m55\u001b[39m     \u001b[43mmain\u001b[49m\u001b[43m(\u001b[49m\u001b[43m)\u001b[49m\n",
      "\u001b[36mCell\u001b[39m\u001b[36m \u001b[39m\u001b[32mIn[7]\u001b[39m\u001b[32m, line 41\u001b[39m, in \u001b[36mmain\u001b[39m\u001b[34m()\u001b[39m\n\u001b[32m     38\u001b[39m     paciente = p.buscar_paciente(datos_pacientes, nombre_completo=nombre_a_buscar)\n\u001b[32m     39\u001b[39m     \u001b[38;5;28;01mif\u001b[39;00m paciente \u001b[38;5;129;01mis\u001b[39;00m \u001b[38;5;129;01mnot\u001b[39;00m \u001b[38;5;28;01mNone\u001b[39;00m:\n\u001b[32m     40\u001b[39m         \u001b[38;5;66;03m# Si se encuentra, se genera el informe como antes\u001b[39;00m\n\u001b[32m---> \u001b[39m\u001b[32m41\u001b[39m         \u001b[43mp\u001b[49m\u001b[43m.\u001b[49m\u001b[43mgenerar_informe_paciente\u001b[49m\u001b[43m(\u001b[49m\u001b[43mpaciente\u001b[49m\u001b[43m)\u001b[49m\n\u001b[32m     43\u001b[39m \u001b[38;5;28;01melif\u001b[39;00m opcion == \u001b[33m'\u001b[39m\u001b[33m3\u001b[39m\u001b[33m'\u001b[39m:\n\u001b[32m     45\u001b[39m     \u001b[38;5;28mprint\u001b[39m(\u001b[33m\"\u001b[39m\u001b[33mh\u001b[39m\u001b[33m\"\u001b[39m)\n",
      "\u001b[36mFile \u001b[39m\u001b[32mc:\\Users\\dell\\Documents\\curso python samsung\\sic-ecuador-2025-proyectos\\EC03\\GESTOR DE EXPEDIENTES CLÍNICOS Y ANALIZADOR DE SALUD\\src\\ProcesamientoDatos.py:234\u001b[39m, in \u001b[36mgenerar_informe_paciente\u001b[39m\u001b[34m(paciente)\u001b[39m\n\u001b[32m    227\u001b[39m \u001b[38;5;66;03m# Ejecutar cada una de las 5 evaluaciones\u001b[39;00m\n\u001b[32m    228\u001b[39m evaluaciones = [\n\u001b[32m    229\u001b[39m     evaluar_riesgo_coronario(paciente),\n\u001b[32m    230\u001b[39m     evaluar_sindrome_metabolico(paciente),\n\u001b[32m    231\u001b[39m     evaluar_riesgo_renal(paciente)\n\u001b[32m    232\u001b[39m ]\n\u001b[32m--> \u001b[39m\u001b[32m234\u001b[39m \u001b[38;5;28;01mfor\u001b[39;00m riesgo, recomendacion \u001b[38;5;129;01min\u001b[39;00m evaluaciones:\n\u001b[32m    235\u001b[39m     \u001b[38;5;28;01mif\u001b[39;00m riesgo:\n\u001b[32m    236\u001b[39m         riesgos.append(riesgo)\n",
      "\u001b[31mValueError\u001b[39m: too many values to unpack (expected 2)"
     ]
    }
   ],
   "source": [
    "\n",
    "# FUNCIÓN PRINCIPAL DE EJECUCIÓN\n",
    "def main():\n",
    "    print(\"=\"*60)\n",
    "    print(\"GESTOR DE EXPEDIENTES CLÍNICOS Y ANALIZADOR DE SALUD\")\n",
    "    print(\"=\"*60)\n",
    "    \n",
    "    ruta_del_archivo = \"data/dataset_final.csv\"\n",
    "    datos_pacientes = p.cargar_y_preparar_datos(ruta_del_archivo)\n",
    "\n",
    "    # Si el archivo no se carga, el programa termina\n",
    "    if datos_pacientes is None:\n",
    "        return\n",
    "\n",
    "    # Menú principal para el usuario\n",
    "    while True:\n",
    "        print(\"\\n¿Qué deseas hacer?\")\n",
    "        print(\"1. Analizar un paciente por ID\")\n",
    "        print(\"2. Analizar un paciente por Nombre\") \n",
    "        print(\"3. Generar gráficos de análisis de todos los pacientes\")\n",
    "        print(\"4. Salir\")\n",
    "        \n",
    "        opcion = input(\"Elige una opción: \")\n",
    "\n",
    "        if opcion == '1':\n",
    "            try:\n",
    "                id_a_buscar = int(input(\"Introduce el ID del paciente: \"))\n",
    "                # Se llama a la función de búsqueda con el parámetro 'patient_id'\n",
    "                paciente = p.buscar_paciente(datos_pacientes, patient_id=id_a_buscar)\n",
    "                if paciente is not None:\n",
    "                    p.generar_informe_paciente(paciente)\n",
    "            except ValueError:\n",
    "                print(\"ID no válido. Por favor, introduce un número.\")\n",
    "        \n",
    "        elif opcion == '2':\n",
    "            # --- LÓGICA PARA BUSCAR POR NOMBRE ---\n",
    "            nombre_a_buscar = input(\"Introduce el Nombre y Apellido del paciente: \")\n",
    "            # Se llama a la MISMA función de búsqueda, pero con el parámetro 'nombre_completo'\n",
    "            paciente = p.buscar_paciente(datos_pacientes, nombre_completo=nombre_a_buscar)\n",
    "            if paciente is not None:\n",
    "                # Si se encuentra, se genera el informe como antes\n",
    "                p.generar_informe_paciente(paciente)\n",
    "\n",
    "        elif opcion == '3':\n",
    "           \n",
    "            print(\"h\")\n",
    "        elif opcion == '4':\n",
    "            print(\"Hasta luego!!!\")\n",
    "            break\n",
    "        \n",
    "        else:\n",
    "            print(\"Opción no válida. Por favor, elige una de las opciones disponibles.\")\n",
    "            \n",
    "\n",
    "if __name__ == '__main__':\n",
    "    main()"
   ]
  }
 ],
 "metadata": {
  "kernelspec": {
   "display_name": "Python 3",
   "language": "python",
   "name": "python3"
  },
  "language_info": {
   "codemirror_mode": {
    "name": "ipython",
    "version": 3
   },
   "file_extension": ".py",
   "mimetype": "text/x-python",
   "name": "python",
   "nbconvert_exporter": "python",
   "pygments_lexer": "ipython3",
   "version": "3.13.7"
  }
 },
 "nbformat": 4,
 "nbformat_minor": 5
}
